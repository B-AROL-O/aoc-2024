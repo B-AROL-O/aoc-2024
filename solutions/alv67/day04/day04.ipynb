{
 "cells": [
  {
   "cell_type": "markdown",
   "metadata": {},
   "source": [
    "# -- DAY 4 --\n"
   ]
  },
  {
   "cell_type": "code",
   "execution_count": 19,
   "metadata": {},
   "outputs": [
    {
     "name": "stdout",
     "output_type": "stream",
     "text": [
      "The solution of Puzzle 1 is: 2562\n"
     ]
    }
   ],
   "source": [
    "# --- Part One ---\n",
    "\n",
    "test = \"\"\"MMMSXXMASM\n",
    "MSAMXMSMSA\n",
    "AMXSXMAAMM\n",
    "MSAMASMSMX\n",
    "XMASAMXAMM\n",
    "XXAMMXXAMA\n",
    "SMSMSASXSS\n",
    "SAXAMASAAA\n",
    "MAMMMXMMMM\n",
    "MXMXAXMASX\"\"\"\n",
    "\n",
    "retvalue = 0\n",
    "\n",
    "WORD = \"XMAS\"\n",
    "\n",
    "def count_words(grid, x, y, word) -> int:\n",
    "    \"\"\"\n",
    "    Find how many 'word' are in a grid in position (x,y)\n",
    "    Word can be orizontal, vertical diagonal in all 8 direction\n",
    "    \"\"\"\n",
    "    retvalue = 0\n",
    "    word = list(word)\n",
    "    wl = len(word)\n",
    "    # get grid size\n",
    "    h = len(grid)\n",
    "    w = len(grid[0])\n",
    "    # check if there is space to search in all directions\n",
    "    right = x + wl <= w\n",
    "    left = x >= wl-1\n",
    "    up = y >= wl-1\n",
    "    down = y + wl <= h\n",
    "    # check horizontal\n",
    "    if right:\n",
    "        extract = [grid[y][x + a] for a in range(wl)]\n",
    "        if extract == word: retvalue += 1\n",
    "        # print(\"r\", extract)        \n",
    "    if right and up:\n",
    "        extract = [grid[y-a][x + a] for a in range(wl)]\n",
    "        if extract == word: retvalue += 1\n",
    "        # print(\"ur\", extract)\n",
    "    if up:\n",
    "        extract = [grid[y-a][x] for a in range(wl)]\n",
    "        if extract == word: retvalue += 1\n",
    "        # print(\"u\", extract)\n",
    "    if left and up:\n",
    "        extract = [grid[y-a][x-a] for a in range(wl)]\n",
    "        if extract == word: retvalue += 1\n",
    "        # print(\"ul\", extract)\n",
    "    if left:\n",
    "        extract = [grid[y][x-a] for a in range(wl)]\n",
    "        if extract == word: retvalue += 1\n",
    "        # print(\"l\", extract)\n",
    "    if left and down:\n",
    "        extract = [grid[y+a][x-a] for a in range(wl)]\n",
    "        if extract == word: retvalue += 1\n",
    "        # print(\"dl\", extract)\n",
    "    if down:\n",
    "        extract = [grid[y+a][x] for a in range(wl)]\n",
    "        if extract == word: retvalue += 1\n",
    "        # print(\"d\", extract)\n",
    "    if right and down:\n",
    "        extract = [grid[y+a][x+a] for a in range(wl)]\n",
    "        if extract == word: retvalue += 1\n",
    "        # print(\"dr\", extract)\n",
    "    return retvalue\n",
    "\n",
    "\n",
    "with open(\"input.txt\",\"r\") as file:\n",
    "    #file = test.splitlines() # decomment to use test\n",
    "    grid = [ list(line) for line in file]\n",
    "    # print(grid)\n",
    "    h = len(grid)\n",
    "    w = len(grid[0])\n",
    "    # print(h,w)\n",
    "    for y in range(h):\n",
    "        for x in range(w):\n",
    "            retvalue += count_words(grid,x,y,WORD)\n",
    "\n",
    "    \n",
    "\n",
    "print (f\"The solution of Puzzle 1 is: {retvalue}\")\n"
   ]
  },
  {
   "cell_type": "code",
   "execution_count": 38,
   "metadata": {},
   "outputs": [
    {
     "name": "stdout",
     "output_type": "stream",
     "text": [
      "The solution of Puzzle 2 is: 1902\n"
     ]
    },
    {
     "data": {
      "text/plain": [
       "9"
      ]
     },
     "execution_count": 38,
     "metadata": {},
     "output_type": "execute_result"
    }
   ],
   "source": [
    "# --- Part Two ---\n",
    "\n",
    "retvalue = 0\n",
    "\n",
    "def find_x_mas(grid, x, y) -> bool:\n",
    "    \"\"\"\n",
    "    Find the X-MAS configuratio (x,y) is the position of 'A':\n",
    "      M S       M M       S M       S S\n",
    "       A    or   A   or    A    or   A \n",
    "      M S       S S       S M       M M\n",
    "    \"\"\"\n",
    "\n",
    "    CORNERS = [\"M\",\"M\",\"S\",\"S\"]\n",
    "    # get grid size\n",
    "    h = len(grid)\n",
    "    w = len(grid[0])\n",
    "    # check if there is space to search ()\n",
    "    can_check = 0 < x < w-1 and 0< y < h-1 \n",
    "    if can_check:\n",
    "        if grid[y][x] != 'A':\n",
    "            return False\n",
    "        else:\n",
    "            c = [grid[y+1][x-1], grid[y-1][x-1], grid[y-1][x+1], grid[y+1][x+1]]\n",
    "            lt = [c[i:]+c[:i] for i in range(len(c))]\n",
    "            # print(lt)\n",
    "            # print(c, CORNERS in lt)\n",
    "            return CORNERS in lt\n",
    "\n",
    "    return False\n",
    "\n",
    "\n",
    "with open(\"input.txt\",\"r\") as file:\n",
    "    #file = test.splitlines() # decomment to use test\n",
    "    grid = [ list(line) for line in file]\n",
    "    # print(grid)\n",
    "    h = len(grid)\n",
    "    w = len(grid[0])\n",
    "    # print(h,w)\n",
    "    for y in range(h):\n",
    "        for x in range(w):\n",
    "            pass\n",
    "            retvalue = retvalue + (1 if find_x_mas(grid, x, y) else 0)\n",
    "\n",
    "\n",
    "print (f\"The solution of Puzzle 2 is: {retvalue}\")\n",
    "9"
   ]
  }
 ],
 "metadata": {
  "kernelspec": {
   "display_name": "Python 3",
   "language": "python",
   "name": "python3"
  },
  "language_info": {
   "codemirror_mode": {
    "name": "ipython",
    "version": 3
   },
   "file_extension": ".py",
   "mimetype": "text/x-python",
   "name": "python",
   "nbconvert_exporter": "python",
   "pygments_lexer": "ipython3",
   "version": "3.12.1"
  }
 },
 "nbformat": 4,
 "nbformat_minor": 2
}
