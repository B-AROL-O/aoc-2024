{
 "cells": [
  {
   "cell_type": "markdown",
   "metadata": {},
   "source": [
    "# -- DAY 10 --\n"
   ]
  },
  {
   "cell_type": "code",
   "execution_count": 9,
   "metadata": {},
   "outputs": [
    {
     "name": "stdout",
     "output_type": "stream",
     "text": [
      "The solution of Puzzle 1 is: 574\n",
      "The solution of Puzzle 2 is: 1238\n"
     ]
    }
   ],
   "source": [
    "# --- Part One & Two ---\n",
    "\n",
    "from icecream import ic\n",
    "\n",
    "test = \"\"\"89010123\n",
    "78121874\n",
    "87430965\n",
    "96549874\n",
    "45678903\n",
    "32019012\n",
    "01329801\n",
    "10456732\"\"\"\n",
    "\n",
    "ret1 = 0\n",
    "ret2 = 0\n",
    "\n",
    "def get_trail(grid, x, y, sv) -> list:\n",
    "    ret = list()\n",
    "    w = len(grid[0])\n",
    "    h = len(grid)\n",
    "    if x<0 or x>=w: return ret\n",
    "    if y<0 or y>=h: return ret\n",
    "    v = grid[y][x]\n",
    "    if v != sv: return ret\n",
    "    if v == 9:\n",
    "        ret.append((x,y))\n",
    "        return ret\n",
    "    ret.extend(get_trail(grid, x+1, y, v+1))\n",
    "    ret.extend(get_trail(grid, x-1, y, v+1))\n",
    "    ret.extend(get_trail(grid, x, y+1, v+1))\n",
    "    ret.extend(get_trail(grid, x, y-1, v+1))\n",
    "    return ret\n",
    "    \n",
    "\n",
    "with open(\"input.txt\",\"r\") as file:\n",
    "    # file = test.splitlines() # decomment to use test\n",
    "    grid = [list(map(int,list(c))) for c in [l.strip() for l in file]]\n",
    "    \n",
    "    for y, row in enumerate(grid):\n",
    "        for x, v in enumerate(row):\n",
    "            if v == 0:\n",
    "                trail = get_trail(grid,x,y,v)\n",
    "                # ic(trail)\n",
    "                ret1 += len(set(trail))\n",
    "                ret2 += len(trail)\n",
    "\n",
    "print (f\"The solution of Puzzle 1 is: {ret1}\")\n",
    "print (f\"The solution of Puzzle 2 is: {ret2}\")"
   ]
  }
 ],
 "metadata": {
  "kernelspec": {
   "display_name": "Python 3",
   "language": "python",
   "name": "python3"
  },
  "language_info": {
   "codemirror_mode": {
    "name": "ipython",
    "version": 3
   },
   "file_extension": ".py",
   "mimetype": "text/x-python",
   "name": "python",
   "nbconvert_exporter": "python",
   "pygments_lexer": "ipython3",
   "version": "3.12.1"
  }
 },
 "nbformat": 4,
 "nbformat_minor": 2
}
