{
 "cells": [
  {
   "cell_type": "markdown",
   "metadata": {},
   "source": [
    "# -- DAY 11 --\n"
   ]
  },
  {
   "cell_type": "code",
   "execution_count": 12,
   "metadata": {},
   "outputs": [
    {
     "name": "stdout",
     "output_type": "stream",
     "text": [
      "The solution of for 25 blinks is: 204022\n",
      "The solution of for 75 blinks is: 241651071960597\n"
     ]
    }
   ],
   "source": [
    "# --- Part One and Part Two ---\n",
    "\n",
    "from icecream import ic\n",
    "\n",
    "test = \"125 17\"\n",
    "\n",
    "blinked = {}\n",
    "\n",
    "def stones_blinking(srones: list, count: int) -> int:\n",
    "    return sum([blink(n, count) for n in stones])\n",
    "\n",
    "\n",
    "def blink(stone: int, count: int) -> int:\n",
    "    retvalue = 0\n",
    "    cifre = len(str(stone))\n",
    "    ret = blinked.get((stone, count))\n",
    "    if ret: \n",
    "        return ret\n",
    "    if count == 1:\n",
    "        retvalue = 2 if cifre % 2 == 0 else 1\n",
    "    elif stone == 0: # 0 -> 1 \n",
    "        retvalue += blink(1, count - 1)\n",
    "    elif cifre % 2 == 0: # even -> split\n",
    "        retvalue += blink(int(str(stone)[:cifre//2]), count - 1) + blink(int(str(stone)[cifre//2:]), count - 1)\n",
    "    else: #  -> stone * 2024 \n",
    "        retvalue += blink(stone * 2024,count -1)\n",
    "    blinked[(stone, count)] = retvalue\n",
    "    return retvalue\n",
    "\n",
    "\n",
    "with open(\"input.txt\",\"r\") as file:\n",
    "    # file = test.splitlines() # decomment to use test\n",
    "    stones =  list(map(int,[line.strip() for line in file][0].split(\" \")))\n",
    "\n",
    "    BLINKS_PART1 = 25\n",
    "    BLINKS_PART2 = 75\n",
    "\n",
    "    ret1 = stones_blinking(stones, BLINKS_PART1)\n",
    "    ret2 = stones_blinking(stones, BLINKS_PART2)\n",
    " \n",
    "    # print (blinked)\n",
    "\n",
    "print (f\"The solution of for {BLINKS_PART1} blinks is: {ret1}\")\n",
    "print (f\"The solution of for {BLINKS_PART2} blinks is: {ret2}\")\n",
    "\n"
   ]
  }
 ],
 "metadata": {
  "kernelspec": {
   "display_name": "Python 3",
   "language": "python",
   "name": "python3"
  },
  "language_info": {
   "codemirror_mode": {
    "name": "ipython",
    "version": 3
   },
   "file_extension": ".py",
   "mimetype": "text/x-python",
   "name": "python",
   "nbconvert_exporter": "python",
   "pygments_lexer": "ipython3",
   "version": "3.12.1"
  }
 },
 "nbformat": 4,
 "nbformat_minor": 2
}
