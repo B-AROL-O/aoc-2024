{
 "cells": [
  {
   "cell_type": "markdown",
   "id": "e8c36490-ac44-4e4f-9fc3-97d15fbef673",
   "metadata": {},
   "source": [
    "# AoC 2024 - Day 9\n",
    "\n",
    "<https://adventofcode.com/2024/day/9>"
   ]
  },
  {
   "cell_type": "code",
   "execution_count": 1,
   "id": "6b7c6dc6-b77c-47e0-ac97-33f7f86c484c",
   "metadata": {},
   "outputs": [],
   "source": [
    "from icecream import ic\n",
    "import time"
   ]
  },
  {
   "cell_type": "code",
   "execution_count": 2,
   "id": "6c8149a1-7aed-4bfb-8ec9-748c65077d45",
   "metadata": {},
   "outputs": [],
   "source": [
    "# use_test = True  # Comment out for using actual puzzle input"
   ]
  },
  {
   "cell_type": "markdown",
   "id": "f3458754-aa32-44e5-b229-4f519108459e",
   "metadata": {},
   "source": [
    "## Part 1"
   ]
  },
  {
   "cell_type": "code",
   "execution_count": 3,
   "id": "b8ac6332-ebd1-424b-a781-df1771e81be8",
   "metadata": {},
   "outputs": [
    {
     "name": "stderr",
     "output_type": "stream",
     "text": [
      "ic| 'use_test was undefined - forcing to', use_test: False\n"
     ]
    }
   ],
   "source": [
    "test_data1 = \"\"\"12345\n",
    "\"\"\"\n",
    "\n",
    "test_data2 = \"\"\"2333133121414131402\n",
    "\"\"\"\n",
    "\n",
    "try:\n",
    "    use_test\n",
    "except NameError:\n",
    "    use_test = False\n",
    "    ic(\"use_test was undefined - forcing to\", use_test)\n",
    "    \n",
    "if use_test:\n",
    "    assert test_data1 != None\n",
    "    assert test_data2 != None"
   ]
  },
  {
   "cell_type": "code",
   "execution_count": 4,
   "id": "6ac2a9c0-ef2f-496b-acd2-f8b47c89860b",
   "metadata": {},
   "outputs": [
    {
     "name": "stderr",
     "output_type": "stream",
     "text": [
      "ic| time.ctime(): 'Sat Dec 14 13:09:10 2024'\n"
     ]
    }
   ],
   "source": [
    "# Read the puzzle input into a list of strings, one per line\n",
    "#\n",
    "if use_test:\n",
    "    input_lines = test_data2.splitlines()\n",
    "else:\n",
    "    with open(\"input_day09_gmacario.txt\", 'r') as file:\n",
    "        input_lines = [line.rstrip() for line in file]\n",
    "\n",
    "ic(time.ctime())\n",
    "if use_test:\n",
    "    ic(input_lines)"
   ]
  },
  {
   "cell_type": "code",
   "execution_count": 5,
   "id": "c46001ce-a770-4cbd-98bd-57222af867a2",
   "metadata": {},
   "outputs": [],
   "source": [
    "def convert_input_to_string(input_str:str, verbose=False) -> str:\n",
    "    # ic(input_str)\n",
    "    result = \"\"\n",
    "    is_free_space = False\n",
    "    file_id = 0\n",
    "    for ch in input_str.rstrip():\n",
    "        sz = int(ch)\n",
    "        if is_free_space:\n",
    "            if verbose:\n",
    "                print(f\"DEBUG: {sz} block(s) of free space\")\n",
    "            result += \".\" * sz\n",
    "        else:\n",
    "            if verbose:\n",
    "                print(f\"DEBUG: {sz} block(s) file (file_id {file_id})\")\n",
    "            # result += f\"({str(file_id)})\" * sz\n",
    "            result += str(file_id) * sz\n",
    "            file_id += 1\n",
    "        is_free_space = not is_free_space\n",
    "    return result[:]"
   ]
  },
  {
   "cell_type": "code",
   "execution_count": 6,
   "id": "c7a89de7-28a0-400c-9011-b80614d46d88",
   "metadata": {},
   "outputs": [],
   "source": [
    "def convert_input_to_map(input_str:str, verbose=False) -> list:\n",
    "    # ic(input_str)\n",
    "    result = list()\n",
    "    is_free_space = False\n",
    "    file_id = 0\n",
    "    for ch in input_str.rstrip():\n",
    "        sz = int(ch)\n",
    "        if is_free_space:\n",
    "            if verbose:\n",
    "                print(f\"DEBUG: {sz} block(s) of free space\")\n",
    "            result.extend([\".\"] * sz)\n",
    "        else:\n",
    "            if verbose:\n",
    "                print(f\"DEBUG: {sz} block(s) file (file_id {file_id})\")\n",
    "            result.extend([file_id] * sz)\n",
    "            file_id += 1\n",
    "        is_free_space = not is_free_space\n",
    "    return result[:]"
   ]
  },
  {
   "cell_type": "code",
   "execution_count": 7,
   "id": "88ead8da-ce4f-4783-ad75-7273e51232fa",
   "metadata": {},
   "outputs": [],
   "source": [
    "# convert_input_to_string(test_data1, verbose=True)"
   ]
  },
  {
   "cell_type": "code",
   "execution_count": 8,
   "id": "01d15367-7228-4efd-984e-1c28631d52f3",
   "metadata": {},
   "outputs": [],
   "source": [
    "# x = convert_input_to_map(test_data2, verbose=True)\n",
    "# print(x)"
   ]
  },
  {
   "cell_type": "code",
   "execution_count": 9,
   "id": "aa661602-a89a-4255-b4b7-c958ff9f53d7",
   "metadata": {},
   "outputs": [],
   "source": [
    "# convert_input_to_map(test_data2, verbose=False)"
   ]
  },
  {
   "cell_type": "code",
   "execution_count": 10,
   "id": "27fca9c5-4e5f-45e2-8b37-887dee836d30",
   "metadata": {},
   "outputs": [],
   "source": [
    "# disk_map = convert_input_to_map(test_data2)\n",
    "# print(disk_map)"
   ]
  },
  {
   "cell_type": "code",
   "execution_count": 11,
   "id": "7fb6292f-bb72-42d7-9435-e926ddf73f8a",
   "metadata": {},
   "outputs": [],
   "source": [
    "def compute_checksum(disk_map: list) -> int:\n",
    "    result = 0\n",
    "    position = 0\n",
    "    for block in disk_map:\n",
    "        if block != \".\":\n",
    "            result += block * position\n",
    "        position += 1\n",
    "    return result"
   ]
  },
  {
   "cell_type": "code",
   "execution_count": 12,
   "id": "cb0a9207-1c20-49cd-9e35-49250851224c",
   "metadata": {},
   "outputs": [],
   "source": [
    "def sort_disk_map(disk_map: list) -> list:\n",
    "    # ic(len(disk_map))\n",
    "    for pos in range(len(disk_map)-1,-1,-1):\n",
    "        if disk_map[pos] != \".\":\n",
    "            # ic(pos)\n",
    "            for pos2 in range(pos):\n",
    "                if disk_map[pos2] == \".\":\n",
    "                    disk_map[pos], disk_map[pos2] = disk_map[pos2], disk_map[pos]\n",
    "                else:\n",
    "                    pass\n",
    "        else:\n",
    "            pass\n",
    "    \n",
    "    # print(disk_map)\n",
    "    return disk_map"
   ]
  },
  {
   "cell_type": "code",
   "execution_count": 13,
   "id": "c8acbc8f-642f-4c0b-83df-c0e8418c88d1",
   "metadata": {},
   "outputs": [],
   "source": [
    "# input_lines"
   ]
  },
  {
   "cell_type": "code",
   "execution_count": 14,
   "id": "0eac7bf8-becc-40de-a3d2-f81ca298b2e5",
   "metadata": {},
   "outputs": [],
   "source": [
    "disk_map = convert_input_to_map(input_lines[0],verbose=False)\n",
    "# print(disk_map)"
   ]
  },
  {
   "cell_type": "code",
   "execution_count": 15,
   "id": "93ad35aa-dffc-48af-9125-d6f31d45e9fc",
   "metadata": {},
   "outputs": [],
   "source": [
    "c0 = compute_checksum(disk_map)"
   ]
  },
  {
   "cell_type": "code",
   "execution_count": 16,
   "id": "793a08d6-09b2-45be-86a8-96b2a41891e3",
   "metadata": {},
   "outputs": [
    {
     "name": "stderr",
     "output_type": "stream",
     "text": [
      "ic| \"elapsed=\": 'elapsed='\n",
      "    tm_end - tm_begin: 132.87688851356506\n",
      "    \"result=\": 'result='\n",
      "    part1_result: 6360094256423\n"
     ]
    },
    {
     "name": "stdout",
     "output_type": "stream",
     "text": [
      "Day 09 Part 1 RESULT:\n",
      "6360094256423\n"
     ]
    }
   ],
   "source": [
    "def solve_part1(disk_map):\n",
    "    sort_disk_map(disk_map)\n",
    "    result = compute_checksum(disk_map)\n",
    "    return result\n",
    "\n",
    "tm_begin = time.time()\n",
    "part1_result = solve_part1(disk_map)\n",
    "tm_end = time.time()\n",
    "ic(\"elapsed=\", tm_end - tm_begin, \"result=\", part1_result)\n",
    "print(\"Day 09 Part 1 RESULT:\")\n",
    "print(part1_result)"
   ]
  },
  {
   "cell_type": "markdown",
   "id": "fc439b96-c48d-482f-a0c9-a63572f7b7de",
   "metadata": {},
   "source": [
    "## Part 2"
   ]
  },
  {
   "cell_type": "code",
   "execution_count": 17,
   "id": "e89fbb76",
   "metadata": {},
   "outputs": [],
   "source": [
    "def len_free_block_at(start:int) -> int:\n",
    "    \"\"\"\n",
    "    Return the length of a free block starting at start\n",
    "    \"\"\"\n",
    "    assert 0 <= start < len(disk_map)\n",
    "    for pos in range(start,len(disk_map)):\n",
    "        if disk_map[pos] != \".\":\n",
    "            return pos - start\n",
    "    return 0\n",
    "\n",
    "# ic(len_free_block_at(2))\n",
    "# ic(len_free_block_at(7))\n",
    "# ic(len_free_block_at(8))\n",
    "# print(len(disk_map),disk_map)\n",
    "# ic(len_free_block_at(31))"
   ]
  },
  {
   "cell_type": "code",
   "execution_count": 18,
   "id": "127b1bd6",
   "metadata": {},
   "outputs": [],
   "source": [
    "def first_free_cluster_with_at_least(num_blocks:int) -> tuple:\n",
    "    \"\"\"\n",
    "    Find the first free space with at least num_blocks_fileno\n",
    "    returns a tuple (pos, l)\n",
    "    \"\"\"\n",
    "    for pos in range(0, len(disk_map)-num_blocks):\n",
    "        # ic(\"Trying at\", pos)\n",
    "        l = len_free_block_at(pos)\n",
    "        # ic(\"Got\", l)\n",
    "        if l >= num_blocks:\n",
    "            return (pos, l)\n",
    "    return (-1, 0)\n",
    "\n",
    "# ic(first_free_cluster_with_at_least(3))\n",
    "# ic(first_free_cluster_with_at_least(4))"
   ]
  },
  {
   "cell_type": "code",
   "execution_count": 19,
   "id": "3dda3f2b-033e-4da0-9367-7265337b4b31",
   "metadata": {},
   "outputs": [
    {
     "name": "stderr",
     "output_type": "stream",
     "text": [
      "ic| largest_fileno: 9999\n",
      "ic| 'Handling', fileno: 9900\n",
      "ic| 'Handling', fileno: 9800\n",
      "ic| 'Handling', fileno: 9700\n",
      "ic| 'Handling', fileno: 9600\n",
      "ic| 'Handling', fileno: 9500\n",
      "ic| 'Handling', fileno: 9400\n",
      "ic| 'Handling', fileno: 9300\n",
      "ic| 'Handling', fileno: 9200\n",
      "ic| 'Handling', fileno: 9100\n",
      "ic| 'Handling', fileno: 9000\n",
      "ic| 'Handling', fileno: 8900\n",
      "ic| 'Handling', fileno: 8800\n",
      "ic| 'Handling', fileno: 8700\n",
      "ic| 'Handling', fileno: 8600\n",
      "ic| 'Handling', fileno: 8500\n",
      "ic| 'Handling', fileno: 8400\n",
      "ic| 'Handling', fileno: 8300\n",
      "ic| 'Handling', fileno: 8200\n",
      "ic| 'Handling', fileno: 8100\n",
      "ic| 'Handling', fileno: 8000\n",
      "ic| 'Handling', fileno: 7900\n",
      "ic| 'Handling', fileno: 7800\n",
      "ic| 'Handling', fileno: 7700\n",
      "ic| 'Handling', fileno: 7600\n",
      "ic| 'Handling', fileno: 7500\n",
      "ic| 'Handling', fileno: 7400\n",
      "ic| 'Handling', fileno: 7300\n",
      "ic| 'Handling', fileno: 7200\n",
      "ic| 'Handling', fileno: 7100\n",
      "ic| 'Handling', fileno: 7000\n",
      "ic| 'Handling', fileno: 6900\n",
      "ic| 'Handling', fileno: 6800\n",
      "ic| 'Handling', fileno: 6700\n",
      "ic| 'Handling', fileno: 6600\n",
      "ic| 'Handling', fileno: 6500\n",
      "ic| 'Handling', fileno: 6400\n",
      "ic| 'Handling', fileno: 6300\n",
      "ic| 'Handling', fileno: 6200\n",
      "ic| 'Handling', fileno: 6100\n",
      "ic| 'Handling', fileno: 6000\n",
      "ic| 'Handling', fileno: 5900\n",
      "ic| 'Handling', fileno: 5800\n",
      "ic| 'Handling', fileno: 5700\n",
      "ic| 'Handling', fileno: 5600\n",
      "ic| 'Handling', fileno: 5500\n",
      "ic| 'Handling', fileno: 5400\n",
      "ic| 'Handling', fileno: 5300\n",
      "ic| 'Handling', fileno: 5200\n",
      "ic| 'Handling', fileno: 5100\n",
      "ic| 'Handling', fileno: 5000\n",
      "ic| 'Handling', fileno: 4900\n",
      "ic| 'Handling', fileno: 4800\n",
      "ic| 'Handling', fileno: 4700\n",
      "ic| 'Handling', fileno: 4600\n",
      "ic| 'Handling', fileno: 4500\n",
      "ic| 'Handling', fileno: 4400\n",
      "ic| 'Handling', fileno: 4300\n",
      "ic| 'Handling', fileno: 4200\n",
      "ic| 'Handling', fileno: 4100\n",
      "ic| 'Handling', fileno: 4000\n",
      "ic| 'Handling', fileno: 3900\n",
      "ic| 'Handling', fileno: 3800\n",
      "ic| 'Handling', fileno: 3700\n",
      "ic| 'Handling', fileno: 3600\n",
      "ic| 'Handling', fileno: 3500\n",
      "ic| 'Handling', fileno: 3400\n",
      "ic| 'Handling', fileno: 3300\n",
      "ic| 'Handling', fileno: 3200\n",
      "ic| 'Handling', fileno: 3100\n",
      "ic| 'Handling', fileno: 3000\n",
      "ic| 'Handling', fileno: 2900\n",
      "ic| 'Handling', fileno: 2800\n",
      "ic| 'Handling', fileno: 2700\n",
      "ic| 'Handling', fileno: 2600\n",
      "ic| 'Handling', fileno: 2500\n",
      "ic| 'Handling', fileno: 2400\n",
      "ic| 'Handling', fileno: 2300\n",
      "ic| 'Handling', fileno: 2200\n",
      "ic| 'Handling', fileno: 2100\n",
      "ic| 'Handling', fileno: 2000\n",
      "ic| 'Handling', fileno: 1900\n",
      "ic| 'Handling', fileno: 1800\n",
      "ic| 'Handling', fileno: 1700\n",
      "ic| 'Handling', fileno: 1600\n",
      "ic| 'Handling', fileno: 1500\n",
      "ic| 'Handling', fileno: 1400\n",
      "ic| 'Handling', fileno: 1300\n",
      "ic| 'Handling', fileno: 1200\n",
      "ic| 'Handling', fileno: 1100\n",
      "ic| 'Handling', fileno: 1000\n",
      "ic| 'Handling', fileno: 900\n",
      "ic| 'Handling', fileno: 800\n",
      "ic| 'Handling', fileno: 700\n",
      "ic| 'Handling', fileno: 600\n",
      "ic| 'Handling', fileno: 500\n",
      "ic| 'Handling', fileno: 400\n",
      "ic| 'Handling', fileno: 300\n",
      "ic| 'Handling', fileno: 200\n",
      "ic| 'Handling', fileno: 100\n",
      "ic| c2: 6379677752410\n"
     ]
    },
    {
     "data": {
      "text/plain": [
       "6379677752410"
      ]
     },
     "execution_count": 19,
     "metadata": {},
     "output_type": "execute_result"
    }
   ],
   "source": [
    "# Restore disk_map after Part 1\n",
    "disk_map = convert_input_to_map(input_lines[0],verbose=False)\n",
    "\n",
    "# print(disk_map)\n",
    "\n",
    "# Find the largest file_id number\n",
    "largest_fileno = max(((id if id != \".\" else -1) for id in disk_map))\n",
    "ic(largest_fileno)\n",
    "\n",
    "for fileno in range(largest_fileno,0,-1):\n",
    "    if fileno % 100 == 0:\n",
    "        ic(\"Handling\", fileno)\n",
    "\n",
    "    first_block_fileno = disk_map.index(fileno)\n",
    "    # Find how many blocks are required by fileno\n",
    "    num_blocks_fileno = disk_map.count(fileno)\n",
    "    # ic(fileno, first_block_fileno, num_blocks_fileno)\n",
    "    # ic(\"step 010\", disk_map)\n",
    "    first_empty_pos = first_free_cluster_with_at_least(num_blocks_fileno)[0]\n",
    "    # ic(\"step 020\", first_empty_pos)\n",
    "\n",
    "    if first_empty_pos < 0:\n",
    "        # ic(\"Cannot move\", fileno)\n",
    "        continue\n",
    "\n",
    "    if first_empty_pos > first_block_fileno:\n",
    "        # ic(\"Empty block is after file\")\n",
    "        continue\n",
    "\n",
    "    # ic(\"Zeroing old file blocks of disk_map\")\n",
    "    disk_map = [blk if blk != fileno else \".\" for blk in disk_map]\n",
    "\n",
    "    # ic(\"Saving file blocks in empty space\")\n",
    "    for k in range(first_empty_pos, first_empty_pos + num_blocks_fileno):\n",
    "        disk_map[k] = fileno\n",
    "\n",
    "# _ = ic(\"After sorting2\", disk_map)\n",
    "\n",
    "c2 = compute_checksum(disk_map)\n",
    "ic(c2)"
   ]
  },
  {
   "cell_type": "code",
   "execution_count": 20,
   "id": "51de10dc-4093-4fce-bd21-50ef40cdf1dd",
   "metadata": {},
   "outputs": [
    {
     "name": "stderr",
     "output_type": "stream",
     "text": [
      "ic| \"elapsed=\": 'elapsed='\n",
      "    tm_end - tm_begin: 322.2749342918396\n",
      "    \"result=\": 'result='\n",
      "    part2_result: 6379677752410\n"
     ]
    },
    {
     "name": "stdout",
     "output_type": "stream",
     "text": [
      "Day 09 Part 2 RESULT:\n",
      "6379677752410\n"
     ]
    }
   ],
   "source": [
    "def solve_part2():\n",
    "    return c2\n",
    "\n",
    "# tm_begin = time.time()\n",
    "part2_result = solve_part2()\n",
    "tm_end = time.time()\n",
    "ic(\"elapsed=\", tm_end - tm_begin, \"result=\", part2_result)\n",
    "print(\"Day 09 Part 2 RESULT:\")\n",
    "print(part2_result)"
   ]
  }
 ],
 "metadata": {
  "kernelspec": {
   "display_name": "aoc-2024-Uq7HKp2W-py3.12",
   "language": "python",
   "name": "python3"
  },
  "language_info": {
   "codemirror_mode": {
    "name": "ipython",
    "version": 3
   },
   "file_extension": ".py",
   "mimetype": "text/x-python",
   "name": "python",
   "nbconvert_exporter": "python",
   "pygments_lexer": "ipython3",
   "version": "3.12.3"
  }
 },
 "nbformat": 4,
 "nbformat_minor": 5
}
