{
 "cells": [
  {
   "cell_type": "markdown",
   "id": "e8c36490-ac44-4e4f-9fc3-97d15fbef673",
   "metadata": {},
   "source": [
    "# AoC 2024 - Day 9\n",
    "\n",
    "<https://adventofcode.com/2024/day/9>"
   ]
  },
  {
   "cell_type": "code",
   "execution_count": 1,
   "id": "6b7c6dc6-b77c-47e0-ac97-33f7f86c484c",
   "metadata": {},
   "outputs": [],
   "source": [
    "from icecream import ic\n",
    "import time"
   ]
  },
  {
   "cell_type": "code",
   "execution_count": 2,
   "id": "6c8149a1-7aed-4bfb-8ec9-748c65077d45",
   "metadata": {},
   "outputs": [],
   "source": [
    "use_test = True  # Comment out for using actual puzzle input"
   ]
  },
  {
   "cell_type": "markdown",
   "id": "f3458754-aa32-44e5-b229-4f519108459e",
   "metadata": {},
   "source": [
    "## Part 1"
   ]
  },
  {
   "cell_type": "code",
   "execution_count": 3,
   "id": "b8ac6332-ebd1-424b-a781-df1771e81be8",
   "metadata": {},
   "outputs": [],
   "source": [
    "test_data1 = \"\"\"12345\n",
    "\"\"\"\n",
    "\n",
    "test_data2 = \"\"\"2333133121414131402\n",
    "\"\"\"\n",
    "\n",
    "try:\n",
    "    use_test\n",
    "except NameError:\n",
    "    use_test = False\n",
    "    ic(\"use_test was undefined - forcing to\", use_test)\n",
    "    \n",
    "if use_test:\n",
    "    assert test_data1 != None\n",
    "    assert test_data2 != None"
   ]
  },
  {
   "cell_type": "code",
   "execution_count": 4,
   "id": "6ac2a9c0-ef2f-496b-acd2-f8b47c89860b",
   "metadata": {},
   "outputs": [
    {
     "name": "stderr",
     "output_type": "stream",
     "text": [
      "ic| time.ctime(): 'Mon Dec  9 21:01:52 2024'\n",
      "ic| input_lines: ['2333133121414131402']\n"
     ]
    }
   ],
   "source": [
    "# Read the puzzle input into a list of strings, one per line\n",
    "#\n",
    "if use_test:\n",
    "    input_lines = test_data2.splitlines()\n",
    "else:\n",
    "    with open(\"input_day09_gmacario.txt\", 'r') as file:\n",
    "        input_lines = [line.rstrip() for line in file]\n",
    "\n",
    "ic(time.ctime())\n",
    "if use_test:\n",
    "    ic(input_lines)"
   ]
  },
  {
   "cell_type": "code",
   "execution_count": 5,
   "id": "c46001ce-a770-4cbd-98bd-57222af867a2",
   "metadata": {},
   "outputs": [],
   "source": [
    "def convert_input_to_string(input_str:str, verbose=False) -> str:\n",
    "    # ic(input_str)\n",
    "    result = \"\"\n",
    "    is_free_space = False\n",
    "    file_id = 0\n",
    "    for ch in input_str.rstrip():\n",
    "        sz = int(ch)\n",
    "        if is_free_space:\n",
    "            if verbose:\n",
    "                print(f\"DEBUG: {sz} block(s) of free space\")\n",
    "            result += \".\" * sz\n",
    "        else:\n",
    "            if verbose:\n",
    "                print(f\"DEBUG: {sz} block(s) file (file_id {file_id})\")\n",
    "            # result += f\"({str(file_id)})\" * sz\n",
    "            result += str(file_id) * sz\n",
    "            file_id += 1\n",
    "        is_free_space = not is_free_space\n",
    "    return result[:]"
   ]
  },
  {
   "cell_type": "code",
   "execution_count": 6,
   "id": "c7a89de7-28a0-400c-9011-b80614d46d88",
   "metadata": {},
   "outputs": [],
   "source": [
    "def convert_input_to_map(input_str:str, verbose=False) -> list:\n",
    "    # ic(input_str)\n",
    "    result = list()\n",
    "    is_free_space = False\n",
    "    file_id = 0\n",
    "    for ch in input_str.rstrip():\n",
    "        sz = int(ch)\n",
    "        if is_free_space:\n",
    "            if verbose:\n",
    "                print(f\"DEBUG: {sz} block(s) of free space\")\n",
    "            result.extend([\".\"] * sz)\n",
    "        else:\n",
    "            if verbose:\n",
    "                print(f\"DEBUG: {sz} block(s) file (file_id {file_id})\")\n",
    "            result.extend([file_id] * sz)\n",
    "            file_id += 1\n",
    "        is_free_space = not is_free_space\n",
    "    return result[:]"
   ]
  },
  {
   "cell_type": "code",
   "execution_count": 7,
   "id": "88ead8da-ce4f-4783-ad75-7273e51232fa",
   "metadata": {},
   "outputs": [
    {
     "name": "stdout",
     "output_type": "stream",
     "text": [
      "DEBUG: 1 block(s) file (file_id 0)\n",
      "DEBUG: 2 block(s) of free space\n",
      "DEBUG: 3 block(s) file (file_id 1)\n",
      "DEBUG: 4 block(s) of free space\n",
      "DEBUG: 5 block(s) file (file_id 2)\n"
     ]
    },
    {
     "data": {
      "text/plain": [
       "'0..111....22222'"
      ]
     },
     "execution_count": 7,
     "metadata": {},
     "output_type": "execute_result"
    }
   ],
   "source": [
    "convert_input_to_string(test_data1, verbose=True)"
   ]
  },
  {
   "cell_type": "code",
   "execution_count": 8,
   "id": "01d15367-7228-4efd-984e-1c28631d52f3",
   "metadata": {},
   "outputs": [
    {
     "name": "stdout",
     "output_type": "stream",
     "text": [
      "DEBUG: 2 block(s) file (file_id 0)\n",
      "DEBUG: 3 block(s) of free space\n",
      "DEBUG: 3 block(s) file (file_id 1)\n",
      "DEBUG: 3 block(s) of free space\n",
      "DEBUG: 1 block(s) file (file_id 2)\n",
      "DEBUG: 3 block(s) of free space\n",
      "DEBUG: 3 block(s) file (file_id 3)\n",
      "DEBUG: 1 block(s) of free space\n",
      "DEBUG: 2 block(s) file (file_id 4)\n",
      "DEBUG: 1 block(s) of free space\n",
      "DEBUG: 4 block(s) file (file_id 5)\n",
      "DEBUG: 1 block(s) of free space\n",
      "DEBUG: 4 block(s) file (file_id 6)\n",
      "DEBUG: 1 block(s) of free space\n",
      "DEBUG: 3 block(s) file (file_id 7)\n",
      "DEBUG: 1 block(s) of free space\n",
      "DEBUG: 4 block(s) file (file_id 8)\n",
      "DEBUG: 0 block(s) of free space\n",
      "DEBUG: 2 block(s) file (file_id 9)\n",
      "[0, 0, '.', '.', '.', 1, 1, 1, '.', '.', '.', 2, '.', '.', '.', 3, 3, 3, '.', 4, 4, '.', 5, 5, 5, 5, '.', 6, 6, 6, 6, '.', 7, 7, 7, '.', 8, 8, 8, 8, 9, 9]\n"
     ]
    }
   ],
   "source": [
    "x = convert_input_to_map(test_data2, verbose=True)\n",
    "print(x)"
   ]
  },
  {
   "cell_type": "code",
   "execution_count": 9,
   "id": "aa661602-a89a-4255-b4b7-c958ff9f53d7",
   "metadata": {},
   "outputs": [],
   "source": [
    "# convert_input_to_map(test_data2, verbose=False)"
   ]
  },
  {
   "cell_type": "code",
   "execution_count": null,
   "id": "e5474cf1-6441-4789-9509-a3ae4fbf020e",
   "metadata": {},
   "outputs": [],
   "source": []
  },
  {
   "cell_type": "code",
   "execution_count": 10,
   "id": "27fca9c5-4e5f-45e2-8b37-887dee836d30",
   "metadata": {},
   "outputs": [
    {
     "name": "stdout",
     "output_type": "stream",
     "text": [
      "[0, 0, '.', '.', '.', 1, 1, 1, '.', '.', '.', 2, '.', '.', '.', 3, 3, 3, '.', 4, 4, '.', 5, 5, 5, 5, '.', 6, 6, 6, 6, '.', 7, 7, 7, '.', 8, 8, 8, 8, 9, 9]\n"
     ]
    }
   ],
   "source": [
    "disk_map = convert_input_to_map(test_data2)\n",
    "print(disk_map)"
   ]
  },
  {
   "cell_type": "code",
   "execution_count": 11,
   "id": "7fb6292f-bb72-42d7-9435-e926ddf73f8a",
   "metadata": {},
   "outputs": [],
   "source": [
    "def compute_checksum(disk_map: list) -> int:\n",
    "    result = 0\n",
    "    position = 0\n",
    "    for block in disk_map:\n",
    "        if block != \".\":\n",
    "            result += block * position\n",
    "        position += 1\n",
    "    return result"
   ]
  },
  {
   "cell_type": "code",
   "execution_count": 12,
   "id": "cb0a9207-1c20-49cd-9e35-49250851224c",
   "metadata": {},
   "outputs": [],
   "source": [
    "def sort_disk_map(disk_map: list) -> list:\n",
    "    # ic(len(disk_map))\n",
    "    for pos in range(len(disk_map)-1,-1,-1):\n",
    "        if disk_map[pos] != \".\":\n",
    "            # ic(pos)\n",
    "            for pos2 in range(pos):\n",
    "                if disk_map[pos2] == \".\":\n",
    "                    disk_map[pos], disk_map[pos2] = disk_map[pos2], disk_map[pos]\n",
    "                else:\n",
    "                    pass\n",
    "        else:\n",
    "            pass\n",
    "    \n",
    "    # print(disk_map)\n",
    "    return disk_map"
   ]
  },
  {
   "cell_type": "code",
   "execution_count": 13,
   "id": "c8acbc8f-642f-4c0b-83df-c0e8418c88d1",
   "metadata": {},
   "outputs": [],
   "source": [
    "# input_lines"
   ]
  },
  {
   "cell_type": "code",
   "execution_count": 14,
   "id": "0eac7bf8-becc-40de-a3d2-f81ca298b2e5",
   "metadata": {},
   "outputs": [],
   "source": [
    "disk_map = convert_input_to_map(input_lines[0],verbose=False)\n",
    "# print(disk_map)"
   ]
  },
  {
   "cell_type": "code",
   "execution_count": 15,
   "id": "93ad35aa-dffc-48af-9125-d6f31d45e9fc",
   "metadata": {},
   "outputs": [
    {
     "data": {
      "text/plain": [
       "4116"
      ]
     },
     "execution_count": 15,
     "metadata": {},
     "output_type": "execute_result"
    }
   ],
   "source": [
    "compute_checksum(disk_map)"
   ]
  },
  {
   "cell_type": "code",
   "execution_count": 16,
   "id": "793a08d6-09b2-45be-86a8-96b2a41891e3",
   "metadata": {},
   "outputs": [
    {
     "name": "stderr",
     "output_type": "stream",
     "text": [
      "ic| \"elapsed=\": 'elapsed='\n",
      "    tm_end - tm_begin: 0.0002110004425048828\n",
      "    \"result=\": 'result='\n",
      "    part1_result: 1928\n"
     ]
    },
    {
     "name": "stdout",
     "output_type": "stream",
     "text": [
      "Day 09 Part 1 RESULT:\n",
      "1928\n"
     ]
    }
   ],
   "source": [
    "def solve_part1(disk_map):\n",
    "    sort_disk_map(disk_map)\n",
    "    result = compute_checksum(disk_map)\n",
    "    return result\n",
    "\n",
    "tm_begin = time.time()\n",
    "part1_result = solve_part1(disk_map)\n",
    "tm_end = time.time()\n",
    "ic(\"elapsed=\", tm_end - tm_begin, \"result=\", part1_result)\n",
    "print(\"Day 09 Part 1 RESULT:\")\n",
    "print(part1_result)"
   ]
  },
  {
   "cell_type": "markdown",
   "id": "fc439b96-c48d-482f-a0c9-a63572f7b7de",
   "metadata": {},
   "source": [
    "## Part 2"
   ]
  },
  {
   "cell_type": "code",
   "execution_count": 17,
   "id": "9664d109-5ac4-4e92-b0ba-6be85075cf56",
   "metadata": {},
   "outputs": [
    {
     "name": "stdout",
     "output_type": "stream",
     "text": [
      "[0, 0, '.', '.', '.', 1, 1, 1, '.', '.', '.', 2, '.', '.', '.', 3, 3, 3, '.', 4, 4, '.', 5, 5, 5, 5, '.', 6, 6, 6, 6, '.', 7, 7, 7, '.', 8, 8, 8, 8, 9, 9]\n"
     ]
    }
   ],
   "source": [
    "disk_map = convert_input_to_map(input_lines[0],verbose=False)\n",
    "print(disk_map)"
   ]
  },
  {
   "cell_type": "code",
   "execution_count": 18,
   "id": "3dda3f2b-033e-4da0-9367-7265337b4b31",
   "metadata": {},
   "outputs": [
    {
     "name": "stderr",
     "output_type": "stream",
     "text": [
      "ic| highest_file_id: 9\n",
      "ic| num_items_with_file_id: 2\n",
      "ic| first_empty_pos: 2\n"
     ]
    },
    {
     "data": {
      "text/plain": [
       "2"
      ]
     },
     "execution_count": 18,
     "metadata": {},
     "output_type": "execute_result"
    }
   ],
   "source": [
    "# Find the largest file_id number\n",
    "highest_file_id = max(((id if id != \".\" else -1) for id in disk_map))\n",
    "ic(highest_file_id)\n",
    "# num_items_with_file_id = sum((id == highest_file_id for id in disk_map))\n",
    "num_items_with_file_id = disk_map.count(highest_file_id)\n",
    "ic(num_items_with_file_id)\n",
    "\n",
    "first_empty_pos = disk_map.index(\".\")\n",
    "ic(first_empty_pos)\n",
    "\n",
    "# disk_map = disk_map[0:first_empty_pos].extend([highest_file_id] * num_items_with_file_id)\n",
    "# print(disk_map)\n",
    "\n",
    "# next_full_pos = disk_map.search()"
   ]
  },
  {
   "cell_type": "code",
   "execution_count": null,
   "id": "9db4b5d8-8a95-4bd3-807b-1bf14d991d90",
   "metadata": {},
   "outputs": [],
   "source": []
  },
  {
   "cell_type": "code",
   "execution_count": null,
   "id": "7087de61-f31f-4d29-9419-acc8a3640e03",
   "metadata": {},
   "outputs": [],
   "source": []
  },
  {
   "cell_type": "code",
   "execution_count": null,
   "id": "fc9e814d-1989-417c-914d-f00b9f3c82cb",
   "metadata": {},
   "outputs": [],
   "source": []
  },
  {
   "cell_type": "code",
   "execution_count": null,
   "id": "2e6f0b33-c005-4e92-9925-9ba2342689d1",
   "metadata": {},
   "outputs": [],
   "source": []
  },
  {
   "cell_type": "code",
   "execution_count": null,
   "id": "879f5ed4-cb9b-41ab-9b26-51549d881dbe",
   "metadata": {},
   "outputs": [],
   "source": []
  },
  {
   "cell_type": "code",
   "execution_count": null,
   "id": "779d8c5e-76a9-44f4-990c-13ca8eafe2a5",
   "metadata": {},
   "outputs": [],
   "source": []
  },
  {
   "cell_type": "code",
   "execution_count": 19,
   "id": "8555a6fb-c520-46f9-b6da-46cdc09b0ee7",
   "metadata": {},
   "outputs": [
    {
     "ename": "AssertionError",
     "evalue": "",
     "output_type": "error",
     "traceback": [
      "\u001b[0;31m---------------------------------------------------------------------------\u001b[0m",
      "\u001b[0;31mAssertionError\u001b[0m                            Traceback (most recent call last)",
      "Cell \u001b[0;32mIn[19], line 1\u001b[0m\n\u001b[0;32m----> 1\u001b[0m \u001b[38;5;28;01massert\u001b[39;00m \u001b[38;5;28;01mFalse\u001b[39;00m\n",
      "\u001b[0;31mAssertionError\u001b[0m: "
     ]
    }
   ],
   "source": [
    "assert False"
   ]
  },
  {
   "cell_type": "code",
   "execution_count": null,
   "id": "05db4eaf-fd33-4496-a669-7adb9dd45b40",
   "metadata": {},
   "outputs": [],
   "source": [
    "# ic(input_map)\n",
    "# ic(get_antenna_frequencies(input_map))"
   ]
  },
  {
   "cell_type": "code",
   "execution_count": null,
   "id": "e15bdbba-6b57-4d70-825c-77cd5cba8c42",
   "metadata": {},
   "outputs": [],
   "source": [
    "# set_0 = find_antinodes(input_map, \"0\", multiple=True)\n",
    "# _ = ic(len(set_0), set_0)"
   ]
  },
  {
   "cell_type": "code",
   "execution_count": null,
   "id": "37f51cde-4f9e-4c25-8b5b-7011e5a3d68a",
   "metadata": {},
   "outputs": [],
   "source": [
    "# set_A = find_antinodes(input_map, \"A\", multiple=True)\n",
    "# _ = ic(len(set_A), set_A)"
   ]
  },
  {
   "cell_type": "code",
   "execution_count": null,
   "id": "342d516a-2032-4350-affa-e0b18b5c817e",
   "metadata": {},
   "outputs": [],
   "source": [
    "# set_total = set_0.union(set_A)\n",
    "# _ = ic(len(set_total), set_total)"
   ]
  },
  {
   "cell_type": "code",
   "execution_count": null,
   "id": "51de10dc-4093-4fce-bd21-50ef40cdf1dd",
   "metadata": {},
   "outputs": [],
   "source": [
    "def solve_part2(input_map):\n",
    "    result = set()\n",
    "    for antenna_freq in get_antenna_frequencies(input_map):\n",
    "        x = find_antinodes(input_map, antenna_freq, multiple=True)\n",
    "        # ic(x)\n",
    "        result = result.union(x)\n",
    "        # ic(x, result)\n",
    "    return len(result)\n",
    "\n",
    "tm_begin = time.time()\n",
    "part2_result = solve_part2(input_map)\n",
    "tm_end = time.time()\n",
    "ic(\"elapsed=\", tm_end - tm_begin, \"result=\", part2_result)\n",
    "print(\"Day 09 Part 2 RESULT:\")\n",
    "print(part2_result)"
   ]
  }
 ],
 "metadata": {
  "kernelspec": {
   "display_name": "Python 3 (ipykernel)",
   "language": "python",
   "name": "python3"
  },
  "language_info": {
   "codemirror_mode": {
    "name": "ipython",
    "version": 3
   },
   "file_extension": ".py",
   "mimetype": "text/x-python",
   "name": "python",
   "nbconvert_exporter": "python",
   "pygments_lexer": "ipython3",
   "version": "3.11.10"
  }
 },
 "nbformat": 4,
 "nbformat_minor": 5
}
