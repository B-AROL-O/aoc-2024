{
 "cells": [
  {
   "cell_type": "markdown",
   "id": "e8c36490-ac44-4e4f-9fc3-97d15fbef673",
   "metadata": {},
   "source": [
    "# AoC 2024 - Day 8\n",
    "\n",
    "<https://adventofcode.com/2024/day/8>"
   ]
  },
  {
   "cell_type": "code",
   "execution_count": 1,
   "id": "6b7c6dc6-b77c-47e0-ac97-33f7f86c484c",
   "metadata": {},
   "outputs": [],
   "source": [
    "from icecream import ic\n",
    "import time"
   ]
  },
  {
   "cell_type": "code",
   "execution_count": 2,
   "id": "6c8149a1-7aed-4bfb-8ec9-748c65077d45",
   "metadata": {},
   "outputs": [],
   "source": [
    "# use_test = True  # Comment out for using actual puzzle input"
   ]
  },
  {
   "cell_type": "markdown",
   "id": "f3458754-aa32-44e5-b229-4f519108459e",
   "metadata": {},
   "source": [
    "## Part 1"
   ]
  },
  {
   "cell_type": "code",
   "execution_count": 3,
   "id": "b8ac6332-ebd1-424b-a781-df1771e81be8",
   "metadata": {},
   "outputs": [
    {
     "name": "stderr",
     "output_type": "stream",
     "text": [
      "ic| 'use_test was undefined - forcing to', use_test: False\n"
     ]
    }
   ],
   "source": [
    "test_data = \"\"\"............\n",
    "........0...\n",
    ".....0......\n",
    ".......0....\n",
    "....0.......\n",
    "......A.....\n",
    "............\n",
    "............\n",
    "........A...\n",
    ".........A..\n",
    "............\n",
    "............\n",
    "\"\"\"\n",
    "\n",
    "try:\n",
    "    use_test\n",
    "except NameError:\n",
    "    use_test = False\n",
    "    ic(\"use_test was undefined - forcing to\", use_test)\n",
    "    \n",
    "if use_test:\n",
    "    assert test_data != None"
   ]
  },
  {
   "cell_type": "code",
   "execution_count": 4,
   "id": "6ac2a9c0-ef2f-496b-acd2-f8b47c89860b",
   "metadata": {},
   "outputs": [
    {
     "name": "stderr",
     "output_type": "stream",
     "text": [
      "ic| time.ctime(): 'Sun Dec  8 07:52:38 2024'\n"
     ]
    }
   ],
   "source": [
    "# Read the puzzle input into a list of strings, one per line\n",
    "#\n",
    "if use_test:\n",
    "    input_lines = test_data.splitlines()    # Uncomment for debug\n",
    "else:\n",
    "    with open(\"input_day08_gmacario.txt\", 'r') as file:\n",
    "        input_lines = [line.rstrip() for line in file]\n",
    "\n",
    "ic(time.ctime())\n",
    "if use_test:\n",
    "    ic(input_lines)"
   ]
  },
  {
   "cell_type": "code",
   "execution_count": 5,
   "id": "6cdc2816-078d-46ca-a615-6f8fb74d4a2f",
   "metadata": {},
   "outputs": [
    {
     "name": "stderr",
     "output_type": "stream",
     "text": [
      "ic| \"map_width\": 'map_width'\n",
      "    len(input_map[0]): 50\n",
      "    \"map_height\": 'map_height'\n",
      "    len(input_map): 50\n"
     ]
    },
    {
     "data": {
      "text/plain": [
       "('map_width', 50, 'map_height', 50)"
      ]
     },
     "execution_count": 5,
     "metadata": {},
     "output_type": "execute_result"
    }
   ],
   "source": [
    "input_map = [list(l) for l in input_lines]\n",
    "assert(all(len(l) == len(input_map[0]) for l in input_map ))\n",
    "# ic(input_map)\n",
    "ic(\"map_width\", len(input_map[0]), \"map_height\", len(input_map))"
   ]
  },
  {
   "cell_type": "code",
   "execution_count": 6,
   "id": "221cb8d5-cd33-46da-a04d-7e01c4088f89",
   "metadata": {},
   "outputs": [],
   "source": [
    "def get_antenna_frequencies(input_map) -> tuple:\n",
    "    \"\"\"\n",
    "    Return a tuple with all the antenna frequencies in input_map\n",
    "    \"\"\"\n",
    "    result = []\n",
    "    for r in range(len(input_map)):\n",
    "        for c in range(len(input_map[0])):\n",
    "            ch = input_map[r][c]\n",
    "            if ch.isalnum() and not ch in result:\n",
    "                result.append(ch)\n",
    "                # ic(\"DEBUG: After adding\", ch, result)\n",
    "    return tuple(result)\n",
    "\n",
    "# get_antenna_frequencies(input_map)"
   ]
  },
  {
   "cell_type": "code",
   "execution_count": 7,
   "id": "1947dafc-74f0-4d88-9e1c-5c39393dbdb3",
   "metadata": {},
   "outputs": [],
   "source": [
    "def find_antinodes(input_map: list, antenna_freq: str, multiple=False) -> set:\n",
    "    \"\"\"\n",
    "    Return the number of antinodes added to input_map\n",
    "    \"\"\"\n",
    "    # ic(\"BEGIN find_antinodes\", antenna_freq, multiple)\n",
    "    result = set()\n",
    "    antenna_freqs = get_antenna_frequencies(input_map)\n",
    "    map_width = len(input_map)\n",
    "    map_height = len(input_map[0])\n",
    "    for r in range(map_width):\n",
    "        for c in range(map_height):\n",
    "            ch = input_map[r][c]\n",
    "            if ch == antenna_freq:\n",
    "                # ic(\"Checking antenna\", ch, \"at\", (r,c))\n",
    "                for r2 in range(map_width):\n",
    "                    for c2 in range(map_height):\n",
    "                        ch2 = input_map[r2][c2]\n",
    "                        if ch == ch2:\n",
    "                            # ic(\"Antenna\", ch2, \"found at\", (r2,c2))\n",
    "                            keep_on_finding = True\n",
    "                            r3, c3 = r, c\n",
    "                            delta_r, delta_c = r - r2, c - c2\n",
    "                            while (keep_on_finding):                            \n",
    "                                # Find the position of reflection\n",
    "                                r3 += delta_r\n",
    "                                c3 += delta_c\n",
    "                                # ic(\"Checking\", (r3,c3))\n",
    "                                if r3 < 0 or r3 >= map_height:\n",
    "                                    keep_on_finding = False\n",
    "                                elif c3 < 0 or c3 >= map_width:\n",
    "                                    keep_on_finding = False\n",
    "                                elif (r3,c3) == (r,c):\n",
    "                                    keep_on_finding = False\n",
    "                                else:\n",
    "                                    ch3 = input_map[r3][c3]\n",
    "                                    # ic(\"Candidate location\", (r3,c3), \"contains\", ch3)\n",
    "                                    if ch3 == \".\":\n",
    "                                        # ic(\"Antinode placed in\", (r3,c3))\n",
    "                                        result.add((r3, c3))\n",
    "                                    else:\n",
    "                                        # ic(\"Antenna\", ch, \"at\", (r3,c3), \"is an antinode\")\n",
    "                                        result.add((r3, c3))\n",
    "                                if multiple:\n",
    "                                    result.add((r,c))\n",
    "                                    result.add((r2,c2))\n",
    "                                    ...\n",
    "                                    pass\n",
    "                                else:\n",
    "                                    keep_on_finding = False\n",
    "\n",
    "    # ic(\"END find_antinodes\", antenna_freq, len(result))\n",
    "    return result\n",
    "\n",
    "# ic(find_antinodes(input_map, \"0\"))"
   ]
  },
  {
   "cell_type": "code",
   "execution_count": 8,
   "id": "793a08d6-09b2-45be-86a8-96b2a41891e3",
   "metadata": {},
   "outputs": [
    {
     "name": "stderr",
     "output_type": "stream",
     "text": [
      "ic| \"elapsed=\": 'elapsed='\n",
      "    tm_end - tm_begin: 0.03243112564086914\n",
      "    \"result=\": 'result='\n",
      "    part1_result: 392\n"
     ]
    },
    {
     "name": "stdout",
     "output_type": "stream",
     "text": [
      "Day 08 Part 1 RESULT:\n",
      "392\n"
     ]
    }
   ],
   "source": [
    "def solve_part1(input_map):\n",
    "    result = set()\n",
    "    for antenna_freq in get_antenna_frequencies(input_map):\n",
    "        x = find_antinodes(input_map, antenna_freq)\n",
    "        # ic(x)\n",
    "        result = result.union(x)\n",
    "        # ic(x, result)\n",
    "    return len(result)\n",
    "\n",
    "tm_begin = time.time()\n",
    "part1_result = solve_part1(input_map)\n",
    "tm_end = time.time()\n",
    "ic(\"elapsed=\", tm_end - tm_begin, \"result=\", part1_result)\n",
    "print(\"Day 08 Part 1 RESULT:\")\n",
    "print(part1_result)"
   ]
  },
  {
   "cell_type": "markdown",
   "id": "fc439b96-c48d-482f-a0c9-a63572f7b7de",
   "metadata": {},
   "source": [
    "## Part 2"
   ]
  },
  {
   "cell_type": "code",
   "execution_count": 9,
   "id": "05db4eaf-fd33-4496-a669-7adb9dd45b40",
   "metadata": {},
   "outputs": [],
   "source": [
    "# ic(input_map)\n",
    "# ic(get_antenna_frequencies(input_map))"
   ]
  },
  {
   "cell_type": "code",
   "execution_count": 10,
   "id": "e15bdbba-6b57-4d70-825c-77cd5cba8c42",
   "metadata": {},
   "outputs": [],
   "source": [
    "# set_0 = find_antinodes(input_map, \"0\", multiple=True)\n",
    "# _ = ic(len(set_0), set_0)"
   ]
  },
  {
   "cell_type": "code",
   "execution_count": 11,
   "id": "37f51cde-4f9e-4c25-8b5b-7011e5a3d68a",
   "metadata": {},
   "outputs": [],
   "source": [
    "# set_A = find_antinodes(input_map, \"A\", multiple=True)\n",
    "# _ = ic(len(set_A), set_A)"
   ]
  },
  {
   "cell_type": "code",
   "execution_count": 12,
   "id": "342d516a-2032-4350-affa-e0b18b5c817e",
   "metadata": {},
   "outputs": [],
   "source": [
    "# set_total = set_0.union(set_A)\n",
    "# _ = ic(len(set_total), set_total)"
   ]
  },
  {
   "cell_type": "code",
   "execution_count": 13,
   "id": "51de10dc-4093-4fce-bd21-50ef40cdf1dd",
   "metadata": {},
   "outputs": [
    {
     "name": "stderr",
     "output_type": "stream",
     "text": [
      "ic| \"elapsed=\": 'elapsed='\n",
      "    tm_end - tm_begin: 0.07219767570495605\n",
      "    \"result=\": 'result='\n",
      "    part2_result: 1235\n"
     ]
    },
    {
     "name": "stdout",
     "output_type": "stream",
     "text": [
      "Day 08 Part 2 RESULT:\n",
      "1235\n"
     ]
    }
   ],
   "source": [
    "def solve_part2(input_map):\n",
    "    result = set()\n",
    "    for antenna_freq in get_antenna_frequencies(input_map):\n",
    "        x = find_antinodes(input_map, antenna_freq, multiple=True)\n",
    "        # ic(x)\n",
    "        result = result.union(x)\n",
    "        # ic(x, result)\n",
    "    return len(result)\n",
    "\n",
    "tm_begin = time.time()\n",
    "part2_result = solve_part2(input_map)\n",
    "tm_end = time.time()\n",
    "ic(\"elapsed=\", tm_end - tm_begin, \"result=\", part2_result)\n",
    "print(\"Day 08 Part 2 RESULT:\")\n",
    "print(part2_result)"
   ]
  }
 ],
 "metadata": {
  "kernelspec": {
   "display_name": "Python 3 (ipykernel)",
   "language": "python",
   "name": "python3"
  },
  "language_info": {
   "codemirror_mode": {
    "name": "ipython",
    "version": 3
   },
   "file_extension": ".py",
   "mimetype": "text/x-python",
   "name": "python",
   "nbconvert_exporter": "python",
   "pygments_lexer": "ipython3",
   "version": "3.11.10"
  }
 },
 "nbformat": 4,
 "nbformat_minor": 5
}
