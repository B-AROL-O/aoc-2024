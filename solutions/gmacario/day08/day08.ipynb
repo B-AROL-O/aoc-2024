{
 "cells": [
  {
   "cell_type": "markdown",
   "id": "e8c36490-ac44-4e4f-9fc3-97d15fbef673",
   "metadata": {},
   "source": [
    "# AoC 2024 - Day 8\n",
    "\n",
    "<https://adventofcode.com/2024/day/8>"
   ]
  },
  {
   "cell_type": "code",
   "execution_count": 1,
   "id": "6b7c6dc6-b77c-47e0-ac97-33f7f86c484c",
   "metadata": {},
   "outputs": [],
   "source": [
    "from icecream import ic\n",
    "import time"
   ]
  },
  {
   "cell_type": "code",
   "execution_count": 2,
   "id": "6c8149a1-7aed-4bfb-8ec9-748c65077d45",
   "metadata": {},
   "outputs": [],
   "source": [
    "# use_test = True  # Comment out for using actual puzzle input"
   ]
  },
  {
   "cell_type": "markdown",
   "id": "f3458754-aa32-44e5-b229-4f519108459e",
   "metadata": {},
   "source": [
    "## Part 1"
   ]
  },
  {
   "cell_type": "code",
   "execution_count": 3,
   "id": "b8ac6332-ebd1-424b-a781-df1771e81be8",
   "metadata": {},
   "outputs": [
    {
     "name": "stderr",
     "output_type": "stream",
     "text": [
      "ic| 'use_test was undefined - forcing to', use_test: False\n"
     ]
    }
   ],
   "source": [
    "test_data = \"\"\"............\n",
    "........0...\n",
    ".....0......\n",
    ".......0....\n",
    "....0.......\n",
    "......A.....\n",
    "............\n",
    "............\n",
    "........A...\n",
    ".........A..\n",
    "............\n",
    "............\n",
    "\"\"\"\n",
    "\n",
    "try:\n",
    "    use_test\n",
    "except NameError:\n",
    "    use_test = False\n",
    "    ic(\"use_test was undefined - forcing to\", use_test)\n",
    "    \n",
    "if use_test:\n",
    "    assert test_data != None"
   ]
  },
  {
   "cell_type": "code",
   "execution_count": 4,
   "id": "6ac2a9c0-ef2f-496b-acd2-f8b47c89860b",
   "metadata": {},
   "outputs": [
    {
     "name": "stderr",
     "output_type": "stream",
     "text": [
      "ic| time.ctime(): 'Sun Dec  8 07:04:43 2024'\n"
     ]
    }
   ],
   "source": [
    "# Read the puzzle input into a list of strings, one per line\n",
    "#\n",
    "if use_test:\n",
    "    input_lines = test_data.splitlines()    # Uncomment for debug\n",
    "else:\n",
    "    with open(\"input_day08_gmacario.txt\", 'r') as file:\n",
    "        input_lines = [line.rstrip() for line in file]\n",
    "\n",
    "ic(time.ctime())\n",
    "if use_test:\n",
    "    ic(input_lines)"
   ]
  },
  {
   "cell_type": "code",
   "execution_count": 5,
   "id": "6cdc2816-078d-46ca-a615-6f8fb74d4a2f",
   "metadata": {},
   "outputs": [
    {
     "name": "stderr",
     "output_type": "stream",
     "text": [
      "ic| \"map_width\": 'map_width'\n",
      "    len(input_map[0]): 50\n",
      "    \"map_height\": 'map_height'\n",
      "    len(input_map): 50\n"
     ]
    },
    {
     "data": {
      "text/plain": [
       "('map_width', 50, 'map_height', 50)"
      ]
     },
     "execution_count": 5,
     "metadata": {},
     "output_type": "execute_result"
    }
   ],
   "source": [
    "input_map = [list(l) for l in input_lines]\n",
    "assert(all(len(l) == len(input_map[0]) for l in input_map ))\n",
    "# ic(input_map)\n",
    "ic(\"map_width\", len(input_map[0]), \"map_height\", len(input_map))"
   ]
  },
  {
   "cell_type": "code",
   "execution_count": 6,
   "id": "221cb8d5-cd33-46da-a04d-7e01c4088f89",
   "metadata": {},
   "outputs": [],
   "source": [
    "def get_antenna_frequencies(input_map) -> tuple:\n",
    "    \"\"\"\n",
    "    Return a tuple with all the antenna frequencies in input_map\n",
    "    \"\"\"\n",
    "    result = []\n",
    "    for r in range(len(input_map)):\n",
    "        for c in range(len(input_map[0])):\n",
    "            ch = input_map[r][c]\n",
    "            if ch.isalnum() and not ch in result:\n",
    "                result.append(ch)\n",
    "                # ic(\"DEBUG: After adding\", ch, result)\n",
    "    return tuple(result)\n",
    "\n",
    "# get_antenna_frequencies(input_map)"
   ]
  },
  {
   "cell_type": "code",
   "execution_count": 7,
   "id": "1947dafc-74f0-4d88-9e1c-5c39393dbdb3",
   "metadata": {},
   "outputs": [],
   "source": [
    "def find_antinodes(input_map: list, antenna_freq: str) -> set:\n",
    "    \"\"\"\n",
    "    Return the number of antinodes added to input_map\n",
    "    \"\"\"\n",
    "    # ic(\"BEGIN find_antinodes\", antenna_freq)\n",
    "    result = set()\n",
    "    antenna_freqs = get_antenna_frequencies(input_map)\n",
    "    map_width = len(input_map)\n",
    "    map_height = len(input_map[0])\n",
    "    for r in range(map_width):\n",
    "        for c in range(map_height):\n",
    "            ch = input_map[r][c]\n",
    "            if ch in antenna_freqs:\n",
    "                # ic(\"Checking antenna\", ch, \"at\", (r,c))\n",
    "                for r2 in range(map_width):\n",
    "                    for c2 in range(map_height):\n",
    "                        ch2 = input_map[r2][c2]\n",
    "                        if ch == ch2:\n",
    "                            # Antenna found at (r2,c2)\n",
    "                            # Find the position of reflection\n",
    "                            r3 = (r - r2) + r\n",
    "                            c3 = (c - c2) + c\n",
    "                            # ic(\"Checking\", (r3,c3))\n",
    "                            if r3 < 0 or r3 >= map_height:\n",
    "                                pass\n",
    "                            elif c3 < 0 or c3 >= map_width:\n",
    "                                pass\n",
    "                            elif (r3,c3) == (r,c):\n",
    "                                pass\n",
    "                            else:\n",
    "                                ch3 = input_map[r3][c3]\n",
    "                                # ic(\"Candidate location\", (r3,c3), \"contains\", ch3)\n",
    "                                if ch3 == \".\":\n",
    "                                    # ic(\"Antinode placed in\", (r3,c3))\n",
    "                                    # input_map[r3][c3] = \"#\"\n",
    "                                    result.add((r3, c3))\n",
    "                                elif ch3 == \"#\":\n",
    "                                    # ic(\"Antinode already placed at\", (r3,c3))\n",
    "                                    pass\n",
    "                                else:\n",
    "                                    # ic(\"Antenna\", ch, \"at\", (r3,c3), \"is an antinode\")\n",
    "                                    result.add((r3, c3))\n",
    "\n",
    "    # ic(\"END find_antinodes\", result)\n",
    "    return result\n",
    "\n",
    "# ic(find_antinodes(input_map, \"0\"))"
   ]
  },
  {
   "cell_type": "code",
   "execution_count": 8,
   "id": "793a08d6-09b2-45be-86a8-96b2a41891e3",
   "metadata": {},
   "outputs": [
    {
     "name": "stderr",
     "output_type": "stream",
     "text": [
      "ic| \"elapsed=\": 'elapsed='\n",
      "    tm_end - tm_begin: 1.0230634212493896\n",
      "    \"result=\": 'result='\n",
      "    part1_result: 392\n"
     ]
    },
    {
     "name": "stdout",
     "output_type": "stream",
     "text": [
      "Day 08 Part 1 RESULT:\n",
      "392\n"
     ]
    }
   ],
   "source": [
    "def solve_part1(input_map):\n",
    "    result = set()\n",
    "    for antenna_freq in get_antenna_frequencies(input_map):\n",
    "        x = find_antinodes(input_map, antenna_freq)\n",
    "        # ic(x)\n",
    "        result = result.union(x)\n",
    "        # ic(x, result)\n",
    "    return len(result)\n",
    "\n",
    "tm_begin = time.time()\n",
    "part1_result = solve_part1(input_map)\n",
    "tm_end = time.time()\n",
    "ic(\"elapsed=\", tm_end - tm_begin, \"result=\", part1_result)\n",
    "print(\"Day 08 Part 1 RESULT:\")\n",
    "print(part1_result)"
   ]
  },
  {
   "cell_type": "markdown",
   "id": "29f1e0f9-95e7-4261-91d1-6bbbef8f0279",
   "metadata": {},
   "source": [
    "## TODO"
   ]
  },
  {
   "cell_type": "markdown",
   "id": "fc439b96-c48d-482f-a0c9-a63572f7b7de",
   "metadata": {},
   "source": [
    "## Part 2"
   ]
  },
  {
   "cell_type": "code",
   "execution_count": 9,
   "id": "51de10dc-4093-4fce-bd21-50ef40cdf1dd",
   "metadata": {},
   "outputs": [
    {
     "ename": "NameError",
     "evalue": "name 'test_equations' is not defined",
     "output_type": "error",
     "traceback": [
      "\u001b[0;31m---------------------------------------------------------------------------\u001b[0m",
      "\u001b[0;31mNameError\u001b[0m                                 Traceback (most recent call last)",
      "Cell \u001b[0;32mIn[9], line 9\u001b[0m\n\u001b[1;32m      6\u001b[0m     \u001b[38;5;28;01mreturn\u001b[39;00m result\n\u001b[1;32m      8\u001b[0m tm_begin \u001b[38;5;241m=\u001b[39m time\u001b[38;5;241m.\u001b[39mtime()\n\u001b[0;32m----> 9\u001b[0m part2_result \u001b[38;5;241m=\u001b[39m solve_part2(\u001b[43mtest_equations\u001b[49m)\n\u001b[1;32m     10\u001b[0m tm_end \u001b[38;5;241m=\u001b[39m time\u001b[38;5;241m.\u001b[39mtime()\n\u001b[1;32m     11\u001b[0m ic(\u001b[38;5;124m\"\u001b[39m\u001b[38;5;124melapsed=\u001b[39m\u001b[38;5;124m\"\u001b[39m, tm_end \u001b[38;5;241m-\u001b[39m tm_begin, \u001b[38;5;124m\"\u001b[39m\u001b[38;5;124mresult=\u001b[39m\u001b[38;5;124m\"\u001b[39m, part2_result)\n",
      "\u001b[0;31mNameError\u001b[0m: name 'test_equations' is not defined"
     ]
    }
   ],
   "source": [
    "def solve_part2(test_equations):\n",
    "    result = 0\n",
    "    for eq in test_equations:\n",
    "        if solve_equation(eq[0], eq[1], ('+', '*', '||')) != None:\n",
    "            result += eq[0]\n",
    "    return result\n",
    "\n",
    "tm_begin = time.time()\n",
    "part2_result = solve_part2(test_equations)\n",
    "tm_end = time.time()\n",
    "ic(\"elapsed=\", tm_end - tm_begin, \"result=\", part2_result)\n",
    "print(\"Day 07 Part 2 RESULT:\")\n",
    "print(part2_result)"
   ]
  }
 ],
 "metadata": {
  "kernelspec": {
   "display_name": "Python 3 (ipykernel)",
   "language": "python",
   "name": "python3"
  },
  "language_info": {
   "codemirror_mode": {
    "name": "ipython",
    "version": 3
   },
   "file_extension": ".py",
   "mimetype": "text/x-python",
   "name": "python",
   "nbconvert_exporter": "python",
   "pygments_lexer": "ipython3",
   "version": "3.11.10"
  }
 },
 "nbformat": 4,
 "nbformat_minor": 5
}
