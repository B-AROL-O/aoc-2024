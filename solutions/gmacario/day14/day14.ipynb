{
 "cells": [
  {
   "cell_type": "markdown",
   "id": "e8c36490-ac44-4e4f-9fc3-97d15fbef673",
   "metadata": {},
   "source": [
    "# AoC 2024 - Day 14\n",
    "\n",
    "<https://adventofcode.com/2024/day/14>"
   ]
  },
  {
   "cell_type": "code",
   "execution_count": 23,
   "id": "6b7c6dc6-b77c-47e0-ac97-33f7f86c484c",
   "metadata": {},
   "outputs": [],
   "source": [
    "from icecream import ic\n",
    "import time"
   ]
  },
  {
   "cell_type": "code",
   "execution_count": 24,
   "id": "6c8149a1-7aed-4bfb-8ec9-748c65077d45",
   "metadata": {},
   "outputs": [],
   "source": [
    "use_test = True  # Comment out for using actual puzzle input"
   ]
  },
  {
   "cell_type": "markdown",
   "id": "f3458754-aa32-44e5-b229-4f519108459e",
   "metadata": {},
   "source": [
    "## Part 1"
   ]
  },
  {
   "cell_type": "code",
   "execution_count": 25,
   "id": "b8ac6332-ebd1-424b-a781-df1771e81be8",
   "metadata": {},
   "outputs": [],
   "source": [
    "try:\n",
    "    use_test\n",
    "except NameError:\n",
    "    use_test = False\n",
    "    ic(\"use_test was undefined - forcing to\", use_test)\n",
    "    \n",
    "FILENAME = \"input_day14_gmacario.txt\"\n",
    "# FILENAME = \"test_day14.txt\""
   ]
  },
  {
   "cell_type": "code",
   "execution_count": 26,
   "id": "6ac2a9c0-ef2f-496b-acd2-f8b47c89860b",
   "metadata": {},
   "outputs": [
    {
     "name": "stderr",
     "output_type": "stream",
     "text": [
      "ic| l: 500\n",
      "ic| time.ctime(): 'Sat Dec 14 06:19:21 2024'\n"
     ]
    },
    {
     "data": {
      "text/plain": [
       "'Sat Dec 14 06:19:21 2024'"
      ]
     },
     "execution_count": 26,
     "metadata": {},
     "output_type": "execute_result"
    }
   ],
   "source": [
    "# Read the puzzle input into a data structure, one per line\n",
    "\n",
    "import re\n",
    "\n",
    "puzzle_input = list()\n",
    "with open(FILENAME, 'r') as f:\n",
    "    for l in f.readlines():\n",
    "        # ic(l)\n",
    "        _, p_pos, v_pos = l.rstrip().split(\"=\")\n",
    "        # ic(p_pos, v_pos)\n",
    "        p_x, p_y = p_pos[:p_pos.index(\" \")].split(\",\")\n",
    "        v_x, v_y = v_pos.split(\",\")\n",
    "        entry = {\n",
    "            \"p_x\": int(p_x),\n",
    "            \"p_y\": int(p_y),\n",
    "            \"v_x\": int(v_x),\n",
    "            \"v_y\": int(v_y)\n",
    "        }\n",
    "        # ic(entry)\n",
    "        puzzle_input.append(entry)\n",
    "\n",
    "l = len(puzzle_input)\n",
    "_ = ic(l, puzzle_input) if l < 50 else ic(l)\n",
    "\n",
    "ic(time.ctime())"
   ]
  },
  {
   "cell_type": "code",
   "execution_count": 27,
   "id": "21209a12",
   "metadata": {},
   "outputs": [
    {
     "ename": "AssertionError",
     "evalue": "",
     "output_type": "error",
     "traceback": [
      "\u001b[0;31m---------------------------------------------------------------------------\u001b[0m",
      "\u001b[0;31mAssertionError\u001b[0m                            Traceback (most recent call last)",
      "Cell \u001b[0;32mIn[27], line 1\u001b[0m\n\u001b[0;32m----> 1\u001b[0m \u001b[38;5;28;01massert\u001b[39;00m \u001b[38;5;28;01mFalse\u001b[39;00m\n",
      "\u001b[0;31mAssertionError\u001b[0m: "
     ]
    }
   ],
   "source": [
    "assert False"
   ]
  },
  {
   "cell_type": "code",
   "execution_count": null,
   "id": "3405f4a9",
   "metadata": {},
   "outputs": [],
   "source": [
    "# Try some movement on machines[0]\n",
    "\n",
    "mach = machines[0]\n",
    "ic(mach)\n",
    "pos = (0, 0)\n",
    "cost = 0\n",
    "\n",
    "# push(\"A\")\n",
    "cost += 3\n",
    "new_x = pos[0] + mach['A'][0]\n",
    "new_y = pos[1] + mach['A'][1]\n",
    "pos = (new_x, new_y)\n",
    "_ = ic(\"After push(A):\", cost, pos)\n",
    "\n",
    "# push(\"B\")\n",
    "cost += 1\n",
    "new_x = pos[0] + mach['B'][0]\n",
    "new_y = pos[1] + mach['B'][1]\n",
    "pos = (new_x, new_y)\n",
    "_ = ic(\"After push(B):\", cost, pos)"
   ]
  },
  {
   "cell_type": "code",
   "execution_count": null,
   "id": "76af24cf",
   "metadata": {},
   "outputs": [],
   "source": [
    "def check_winning_sequence(mach: dict, initial_pos: tuple, num_a: int, num_b: int) -> int:\n",
    "    \"\"\"Find if some movement are winning\n",
    "    Return the cost of movement, or -1 if it does not win\n",
    "    \"\"\"\n",
    "    # ic(mach, initial_pos, num_a, num_b)\n",
    "\n",
    "    # if num_a > 100 or num_b > 100:\n",
    "    #     # ic(num_a, num_b, \"too big\")\n",
    "    #     return -1\n",
    "\n",
    "    end_x = initial_pos[0]\n",
    "    end_y = initial_pos[1]\n",
    "    cost = 0\n",
    "\n",
    "    end_x = end_x + mach['A'][0] * num_a\n",
    "    end_y = end_y + mach['A'][1] * num_a\n",
    "    cost += num_a * 3\n",
    "\n",
    "    end_x = end_x + mach['B'][0] * num_b\n",
    "    end_y = end_y + mach['B'][1] * num_b\n",
    "    cost += num_b * 1\n",
    "\n",
    "    if (end_x, end_y) == (mach['P'][0], mach['P'][1]):\n",
    "        return cost\n",
    "    else:\n",
    "        # ic((end_x, end_y), \"not in\", mach['P'])\n",
    "        return -1"
   ]
  },
  {
   "cell_type": "code",
   "execution_count": null,
   "id": "62b2751e",
   "metadata": {},
   "outputs": [],
   "source": [
    "# assert check_winning_sequence(machines[0], (0,0), 80, 40) == 280\n",
    "# assert check_winning_sequence(machines[2], (0,0), 38, 86) == 200"
   ]
  },
  {
   "cell_type": "code",
   "execution_count": null,
   "id": "a68adc94",
   "metadata": {},
   "outputs": [],
   "source": [
    "def find_cheapest_winning_sequence(mach: dict, initial_pos, max_steps:int=100) -> tuple:\n",
    "    \"\"\"\n",
    "    pos: tuple for starting position\n",
    "    Return a tuple (best_num_a:int, best_num_b:int, best_cost:int)\n",
    "    \"\"\"\n",
    "    # ic(\"find_cheapest_winning_sequence:\", mach, initial_pos)\n",
    "    best_num_a = None\n",
    "    best_num_b = None\n",
    "    best_cost = None\n",
    "    for num_a in range(1, max_steps + 1):\n",
    "        for num_b in range(1, max_steps + 1):\n",
    "            # ic(\"Trying\", num_a, num_b)\n",
    "            c = check_winning_sequence(mach, initial_pos, num_a, num_b)\n",
    "            if c < 0:\n",
    "                pass\n",
    "            elif best_cost is None and c > 0:\n",
    "                best_num_a = num_a\n",
    "                best_num_b = num_b\n",
    "                best_cost = c\n",
    "                ic(\"Found first\", best_cost, \"with\", best_num_a, best_num_b)\n",
    "            elif best_cost is not None and c < best_cost:\n",
    "                best_num_a = num_a\n",
    "                best_num_b = num_b\n",
    "                best_cost = c\n",
    "                ic(\"Found better\", best_cost, \"with\", best_num_a, best_num_b)\n",
    "\n",
    "    return (best_num_a, best_num_b, best_cost)\n",
    "\n",
    "# _ = ic(machines)\n",
    "\n",
    "_ = ic(find_cheapest_winning_sequence(machines[0], (0,0))) # (80, 40, 280)\n",
    "# _ = ic(find_cheapest_winning_sequence(machines[1], (0,0))) # No combination\n",
    "# _ = ic(find_cheapest_winning_sequence(machines[2], (0,0))) # (38, 86, 200)\n",
    "# _ = ic(find_cheapest_winning_sequence(machines[3], (0,0))) # No combination\n",
    "\n",
    "# assert find_cheapest_winning_sequence(machines[0], (0,0)) == (80, 40, 280)"
   ]
  },
  {
   "cell_type": "code",
   "execution_count": null,
   "id": "abd745f8",
   "metadata": {},
   "outputs": [],
   "source": [
    "def find_winning_sequence_linalgebra(mach):\n",
    "    # ic(mach)\n",
    "    p_x = mach['P'][0]\n",
    "    p_y = mach['P'][1]\n",
    "    a_dx = mach['A'][0]\n",
    "    a_dy = mach['A'][1]\n",
    "    b_dx = mach['B'][0]\n",
    "    b_dy = mach['B'][1]\n",
    "\n",
    "    n_a_num = p_x * b_dy - p_y * b_dx\n",
    "    n_a_den = a_dx * b_dy - a_dy * b_dx\n",
    "    n_a = n_a_num // n_a_den\n",
    "\n",
    "    if n_a_num != n_a * n_a_den:\n",
    "        return 0, 0, None\n",
    "\n",
    "    n_b_num = p_x * a_dy - p_y * a_dx\n",
    "    n_b_den = b_dx * a_dy - b_dy * a_dx\n",
    "    n_b = n_b_num // n_b_den\n",
    "\n",
    "    if n_b_num != n_b * n_b_den:\n",
    "        return 0, 0, None\n",
    "\n",
    "    result = n_a, n_b, n_a * 3 + n_b * 1\n",
    "\n",
    "    # ic(\"find_winning_sequence\", mach, \": found\", result)\n",
    "    return result"
   ]
  },
  {
   "cell_type": "code",
   "execution_count": null,
   "id": "15eda2ff",
   "metadata": {},
   "outputs": [],
   "source": [
    "# total_tokens = 0\n",
    "# for mach in machines:\n",
    "#     n_a, n_b, n_tokens = find_cheapest_winning_sequence(mach)\n",
    "#     ic(n_a, n_b, n_tokens)\n",
    "#     if n_tokens is not None:\n",
    "#         total_tokens += n_tokens\n",
    "\n",
    "# _ = ic(total_tokens)\n",
    "\n",
    "def sum_cheapest_sequences(machines, initial_pos:tuple=(0,0), max_steps:int=100):\n",
    "    \n",
    "    result = 0\n",
    "    for mach in machines:\n",
    "        # n_a, n_b, n_tokens = find_cheapest_winning_sequence(mach, initial_pos)\n",
    "        n_a, n_b, n_tokens = find_winning_sequence_linalgebra(mach)\n",
    "        #\n",
    "        # ic(n_a, n_b, n_tokens)\n",
    "        if n_tokens is not None:\n",
    "            result += n_tokens\n",
    "    return result"
   ]
  },
  {
   "cell_type": "code",
   "execution_count": null,
   "id": "793a08d6-09b2-45be-86a8-96b2a41891e3",
   "metadata": {},
   "outputs": [],
   "source": [
    "def solve_part1():\n",
    "    return sum_cheapest_sequences(machines)\n",
    "\n",
    "tm_begin = time.time()\n",
    "part1_result = solve_part1()\n",
    "tm_end = time.time()\n",
    "ic(\"elapsed=\", tm_end - tm_begin, \"result=\", part1_result)\n",
    "print(\"Day 13 Part 1 RESULT:\")\n",
    "print(part1_result)"
   ]
  },
  {
   "cell_type": "markdown",
   "id": "fc439b96-c48d-482f-a0c9-a63572f7b7de",
   "metadata": {},
   "source": [
    "## Part 2"
   ]
  },
  {
   "cell_type": "code",
   "execution_count": null,
   "id": "07549d49",
   "metadata": {},
   "outputs": [],
   "source": [
    "import copy\n",
    "\n",
    "machines_corrected = copy.deepcopy(machines)\n",
    "initial_pos = (0, 0)\n",
    "\n",
    "for mach in machines_corrected:\n",
    "    new_p_x = mach['P'][0] + 10_000_000_000_000\n",
    "    new_p_y = mach['P'][1] + 10_000_000_000_000\n",
    "    mach['P'] = (new_p_x, new_p_y)\n",
    "\n",
    "# _ = ic(machines)\n",
    "# _ = ic(machines_corrected)\n",
    "\n",
    "_ = ic(find_winning_sequence_linalgebra(machines_corrected[0]))\n",
    "_ = ic(find_winning_sequence_linalgebra(machines_corrected[1]))\n",
    "_ = ic(find_winning_sequence_linalgebra(machines_corrected[2]))\n",
    "_ = ic(find_winning_sequence_linalgebra(machines_corrected[3]))\n"
   ]
  },
  {
   "cell_type": "code",
   "execution_count": null,
   "id": "9db4b5d8-8a95-4bd3-807b-1bf14d991d90",
   "metadata": {},
   "outputs": [],
   "source": [
    "def solve_part2():\n",
    "    return sum_cheapest_sequences(machines_corrected, initial_pos)\n",
    "\n",
    "tm_begin = time.time()\n",
    "part2_result = solve_part2()\n",
    "tm_end = time.time()\n",
    "ic(\"elapsed=\", tm_end - tm_begin, \"result=\", part2_result)\n",
    "print(\"Day 13 Part 2 RESULT:\")\n",
    "print(part2_result)"
   ]
  },
  {
   "cell_type": "code",
   "execution_count": null,
   "id": "a720e89f",
   "metadata": {},
   "outputs": [],
   "source": []
  }
 ],
 "metadata": {
  "kernelspec": {
   "display_name": "aoc-2024-Uq7HKp2W-py3.12",
   "language": "python",
   "name": "python3"
  },
  "language_info": {
   "codemirror_mode": {
    "name": "ipython",
    "version": 3
   },
   "file_extension": ".py",
   "mimetype": "text/x-python",
   "name": "python",
   "nbconvert_exporter": "python",
   "pygments_lexer": "ipython3",
   "version": "3.12.3"
  }
 },
 "nbformat": 4,
 "nbformat_minor": 5
}
