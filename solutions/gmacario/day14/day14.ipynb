{
 "cells": [
  {
   "cell_type": "markdown",
   "id": "e8c36490-ac44-4e4f-9fc3-97d15fbef673",
   "metadata": {},
   "source": [
    "# AoC 2024 - Day 14\n",
    "\n",
    "<https://adventofcode.com/2024/day/14>"
   ]
  },
  {
   "cell_type": "code",
   "execution_count": 1,
   "id": "6b7c6dc6-b77c-47e0-ac97-33f7f86c484c",
   "metadata": {},
   "outputs": [],
   "source": [
    "from icecream import ic\n",
    "import time"
   ]
  },
  {
   "cell_type": "code",
   "execution_count": 2,
   "id": "6c8149a1-7aed-4bfb-8ec9-748c65077d45",
   "metadata": {},
   "outputs": [],
   "source": [
    "use_test = True  # Comment out for using actual puzzle input"
   ]
  },
  {
   "cell_type": "markdown",
   "id": "f3458754-aa32-44e5-b229-4f519108459e",
   "metadata": {},
   "source": [
    "## Part 1"
   ]
  },
  {
   "cell_type": "code",
   "execution_count": 3,
   "id": "b8ac6332-ebd1-424b-a781-df1771e81be8",
   "metadata": {},
   "outputs": [],
   "source": [
    "try:\n",
    "    use_test\n",
    "except NameError:\n",
    "    use_test = False\n",
    "    ic(\"use_test was undefined - forcing to\", use_test)\n",
    "    \n",
    "FILENAME = \"input_day14_gmacario.txt\"\n",
    "map_width, map_height = 101, 103\n",
    "\n",
    "# FILENAME = \"test_day14.txt\"\n",
    "# map_width, map_height = 11, 7"
   ]
  },
  {
   "cell_type": "code",
   "execution_count": 4,
   "id": "6ac2a9c0-ef2f-496b-acd2-f8b47c89860b",
   "metadata": {},
   "outputs": [
    {
     "name": "stderr",
     "output_type": "stream",
     "text": [
      "ic| l: 500\n",
      "ic| time.ctime(): 'Sat Dec 14 07:33:30 2024'\n"
     ]
    },
    {
     "data": {
      "text/plain": [
       "'Sat Dec 14 07:33:30 2024'"
      ]
     },
     "execution_count": 4,
     "metadata": {},
     "output_type": "execute_result"
    }
   ],
   "source": [
    "# Read the puzzle input into a data structure, one per line\n",
    "\n",
    "import re\n",
    "\n",
    "puzzle_input = list()\n",
    "with open(FILENAME, 'r') as f:\n",
    "    for l in f.readlines():\n",
    "        # ic(l)\n",
    "        _, p_pos, v_pos = l.rstrip().split(\"=\")\n",
    "        # ic(p_pos, v_pos)\n",
    "        p_x, p_y = p_pos[:p_pos.index(\" \")].split(\",\")\n",
    "        v_x, v_y = v_pos.split(\",\")\n",
    "        entry = {\n",
    "            \"p\": (int(p_x), int(p_y)),\n",
    "            \"v\": (int(v_x), int(v_y))\n",
    "        }\n",
    "        # ic(entry)\n",
    "        puzzle_input.append(entry)\n",
    "\n",
    "l = len(puzzle_input)\n",
    "_ = ic(l, puzzle_input) if l < 50 else ic(l)\n",
    "\n",
    "ic(time.ctime())"
   ]
  },
  {
   "cell_type": "code",
   "execution_count": 5,
   "id": "22d1ca90",
   "metadata": {},
   "outputs": [],
   "source": [
    "def show_map_with_robots(robots:list) -> list:\n",
    "    result = list()\n",
    "    for y in range(map_height):\n",
    "        line = \"\"\n",
    "        for x in range(map_width):\n",
    "            which_at_xy = (r['p'] == (x,y) for r in robots)\n",
    "            # ic(which_at_xy)\n",
    "            line += f\"{sum(which_at_xy):03}{\"-\" if x+1 < map_width else \"\"}\"\n",
    "        result.append(line)\n",
    "    return result\n",
    "\n",
    "# _ = ic(show_map_with_robots(puzzle_input))"
   ]
  },
  {
   "cell_type": "code",
   "execution_count": 6,
   "id": "22f0c535",
   "metadata": {},
   "outputs": [],
   "source": [
    "def move_robots_one_time(robots:list) -> list:\n",
    "    for r in robots:\n",
    "        new_x = (r['p'][0] + r['v'][0]) % map_width\n",
    "        new_y = (r['p'][1] + r['v'][1]) % map_height\n",
    "        r['p'] = (new_x, new_y)\n",
    "    return robots\n",
    "\n",
    "# one_robot_only = [\n",
    "#     {\"p\": (2, 4), \"v\": (2, -3)}\n",
    "# ]\n",
    "# _ = ic(\"0 sec\", show_map_with_robots(one_robot_only))\n",
    "# move_robots_one_time(one_robot_only)\n",
    "# # _ = ic(\"1 sec\", show_map_with_robots(one_robot_only))\n",
    "# move_robots_one_time(one_robot_only)\n",
    "# # _ = ic(\"2 sec\", show_map_with_robots(one_robot_only))\n",
    "# move_robots_one_time(one_robot_only)\n",
    "# # _ = ic(\"3 sec\", show_map_with_robots(one_robot_only))\n",
    "# move_robots_one_time(one_robot_only)\n",
    "# # _ = ic(\"4 sec\", show_map_with_robots(one_robot_only))\n",
    "# move_robots_one_time(one_robot_only)\n",
    "# _ = ic(\"5 sec\", show_map_with_robots(one_robot_only))\n",
    "# # move_robots_one_time(one_robot_only)\n",
    "# # _ = ic(\"6 sec\", show_map_with_robots(one_robot_only))"
   ]
  },
  {
   "cell_type": "code",
   "execution_count": 7,
   "id": "0b1f6042",
   "metadata": {},
   "outputs": [],
   "source": [
    "def quadrant(x, y) -> int:\n",
    "    \"\"\"\n",
    "    Return in which quadrant number the coordinate (x,y) is located\n",
    "    \"\"\"\n",
    "    assert(map_width % 2 == 1)\n",
    "    assert(map_height % 2 == 1)\n",
    "    q_width = map_width // 2\n",
    "    q_height = map_height // 2\n",
    "    if 0 <= x < q_width and 0 <= y < q_height:\n",
    "        return 1     \n",
    "    elif q_width < x < map_width and 0 <= y < q_height:\n",
    "        return 2\n",
    "    elif 0 <= x < q_width and q_height < y < map_height:\n",
    "        return 3\n",
    "    elif q_width < x < map_width and q_height < y < map_height:\n",
    "        return 4\n",
    "    else:\n",
    "        return 0"
   ]
  },
  {
   "cell_type": "code",
   "execution_count": 8,
   "id": "a09407cb",
   "metadata": {},
   "outputs": [],
   "source": [
    "def safety_factor(robots: list) -> int:\n",
    "    \"\"\"\n",
    "    Calculate the number of robots in each quadrant\n",
    "    \"\"\"\n",
    "    positions = [0, 0, 0, 0, 0]\n",
    "    for r in robots:\n",
    "        pos = r['p']\n",
    "        q = quadrant(pos[0], pos[1])\n",
    "        assert q in range(5)\n",
    "        positions[q] += 1\n",
    "    ic(positions)\n",
    "    return positions[1] * positions[2] * positions[3] * positions[4]\n",
    "\n",
    "# _ = ic(safety_factor(puzzle_input))"
   ]
  },
  {
   "cell_type": "code",
   "execution_count": 9,
   "id": "66f7b929",
   "metadata": {},
   "outputs": [],
   "source": [
    "# _ = ic(\"0 sec\", show_map_with_robots(puzzle_input))\n",
    "# for n in range(100):\n",
    "#     move_robots_one_time(puzzle_input)\n",
    "# _ = ic(\"100 sec\", show_map_with_robots(puzzle_input))"
   ]
  },
  {
   "cell_type": "code",
   "execution_count": 10,
   "id": "793a08d6-09b2-45be-86a8-96b2a41891e3",
   "metadata": {},
   "outputs": [
    {
     "name": "stderr",
     "output_type": "stream",
     "text": [
      "ic| positions: [9, 135, 121, 117, 118]\n",
      "ic| \"elapsed=\": 'elapsed='\n",
      "    tm_end - tm_begin: 0.0385279655456543\n",
      "    \"result=\": 'result='\n",
      "    part1_result: 225521010\n"
     ]
    },
    {
     "name": "stdout",
     "output_type": "stream",
     "text": [
      "Day 14 Part 1 RESULT:\n",
      "225521010\n"
     ]
    }
   ],
   "source": [
    "def solve_part1():\n",
    "    for n in range(100):\n",
    "        move_robots_one_time(puzzle_input)\n",
    "    return safety_factor(puzzle_input)\n",
    "\n",
    "tm_begin = time.time()\n",
    "part1_result = solve_part1()\n",
    "tm_end = time.time()\n",
    "ic(\"elapsed=\", tm_end - tm_begin, \"result=\", part1_result)\n",
    "print(\"Day 14 Part 1 RESULT:\")\n",
    "print(part1_result)"
   ]
  },
  {
   "cell_type": "markdown",
   "id": "fc439b96-c48d-482f-a0c9-a63572f7b7de",
   "metadata": {},
   "source": [
    "## Part 2"
   ]
  },
  {
   "cell_type": "code",
   "execution_count": 11,
   "id": "07549d49",
   "metadata": {},
   "outputs": [
    {
     "ename": "NameError",
     "evalue": "name 'machines' is not defined",
     "output_type": "error",
     "traceback": [
      "\u001b[0;31m---------------------------------------------------------------------------\u001b[0m",
      "\u001b[0;31mNameError\u001b[0m                                 Traceback (most recent call last)",
      "Cell \u001b[0;32mIn[11], line 3\u001b[0m\n\u001b[1;32m      1\u001b[0m \u001b[38;5;28;01mimport\u001b[39;00m \u001b[38;5;21;01mcopy\u001b[39;00m\n\u001b[0;32m----> 3\u001b[0m machines_corrected \u001b[38;5;241m=\u001b[39m copy\u001b[38;5;241m.\u001b[39mdeepcopy(\u001b[43mmachines\u001b[49m)\n\u001b[1;32m      4\u001b[0m initial_pos \u001b[38;5;241m=\u001b[39m (\u001b[38;5;241m0\u001b[39m, \u001b[38;5;241m0\u001b[39m)\n\u001b[1;32m      6\u001b[0m \u001b[38;5;28;01mfor\u001b[39;00m mach \u001b[38;5;129;01min\u001b[39;00m machines_corrected:\n",
      "\u001b[0;31mNameError\u001b[0m: name 'machines' is not defined"
     ]
    }
   ],
   "source": [
    "import copy\n",
    "\n",
    "machines_corrected = copy.deepcopy(machines)\n",
    "initial_pos = (0, 0)\n",
    "\n",
    "for mach in machines_corrected:\n",
    "    new_p_x = mach['P'][0] + 10_000_000_000_000\n",
    "    new_p_y = mach['P'][1] + 10_000_000_000_000\n",
    "    mach['P'] = (new_p_x, new_p_y)\n",
    "\n",
    "# _ = ic(machines)\n",
    "# _ = ic(machines_corrected)\n",
    "\n",
    "_ = ic(find_winning_sequence_linalgebra(machines_corrected[0]))\n",
    "_ = ic(find_winning_sequence_linalgebra(machines_corrected[1]))\n",
    "_ = ic(find_winning_sequence_linalgebra(machines_corrected[2]))\n",
    "_ = ic(find_winning_sequence_linalgebra(machines_corrected[3]))\n"
   ]
  },
  {
   "cell_type": "code",
   "execution_count": null,
   "id": "9db4b5d8-8a95-4bd3-807b-1bf14d991d90",
   "metadata": {},
   "outputs": [],
   "source": [
    "def solve_part2():\n",
    "    return sum_cheapest_sequences(machines_corrected, initial_pos)\n",
    "\n",
    "tm_begin = time.time()\n",
    "part2_result = solve_part2()\n",
    "tm_end = time.time()\n",
    "ic(\"elapsed=\", tm_end - tm_begin, \"result=\", part2_result)\n",
    "print(\"Day 13 Part 2 RESULT:\")\n",
    "print(part2_result)"
   ]
  },
  {
   "cell_type": "code",
   "execution_count": null,
   "id": "a720e89f",
   "metadata": {},
   "outputs": [],
   "source": []
  }
 ],
 "metadata": {
  "kernelspec": {
   "display_name": "aoc-2024-Uq7HKp2W-py3.12",
   "language": "python",
   "name": "python3"
  },
  "language_info": {
   "codemirror_mode": {
    "name": "ipython",
    "version": 3
   },
   "file_extension": ".py",
   "mimetype": "text/x-python",
   "name": "python",
   "nbconvert_exporter": "python",
   "pygments_lexer": "ipython3",
   "version": "3.12.3"
  }
 },
 "nbformat": 4,
 "nbformat_minor": 5
}
