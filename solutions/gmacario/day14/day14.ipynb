{
 "cells": [
  {
   "cell_type": "markdown",
   "id": "e8c36490-ac44-4e4f-9fc3-97d15fbef673",
   "metadata": {},
   "source": [
    "# AoC 2024 - Day 14\n",
    "\n",
    "<https://adventofcode.com/2024/day/14>"
   ]
  },
  {
   "cell_type": "code",
   "execution_count": 1,
   "id": "6b7c6dc6-b77c-47e0-ac97-33f7f86c484c",
   "metadata": {},
   "outputs": [],
   "source": [
    "from icecream import ic\n",
    "import time"
   ]
  },
  {
   "cell_type": "code",
   "execution_count": 2,
   "id": "6c8149a1-7aed-4bfb-8ec9-748c65077d45",
   "metadata": {},
   "outputs": [],
   "source": [
    "use_test = True  # Comment out for using actual puzzle input"
   ]
  },
  {
   "cell_type": "markdown",
   "id": "f3458754-aa32-44e5-b229-4f519108459e",
   "metadata": {},
   "source": [
    "## Part 1"
   ]
  },
  {
   "cell_type": "code",
   "execution_count": 3,
   "id": "b8ac6332-ebd1-424b-a781-df1771e81be8",
   "metadata": {},
   "outputs": [],
   "source": [
    "try:\n",
    "    use_test\n",
    "except NameError:\n",
    "    use_test = False\n",
    "    ic(\"use_test was undefined - forcing to\", use_test)\n",
    "    \n",
    "FILENAME = \"input_day14_gmacario.txt\"\n",
    "map_width, map_height = 101, 103\n",
    "\n",
    "# FILENAME = \"test_day14.txt\"\n",
    "# map_width, map_height = 11, 7"
   ]
  },
  {
   "cell_type": "code",
   "execution_count": 4,
   "id": "6ac2a9c0-ef2f-496b-acd2-f8b47c89860b",
   "metadata": {},
   "outputs": [
    {
     "name": "stderr",
     "output_type": "stream",
     "text": [
      "ic| l: 500\n",
      "ic| time.ctime(tm_begin): 'Sat Dec 14 10:50:33 2024'\n"
     ]
    },
    {
     "data": {
      "text/plain": [
       "'Sat Dec 14 10:50:33 2024'"
      ]
     },
     "execution_count": 4,
     "metadata": {},
     "output_type": "execute_result"
    }
   ],
   "source": [
    "# Read the puzzle input into a data structure, one per line\n",
    "puzzle_input = list()\n",
    "with open(FILENAME, 'r') as f:\n",
    "    for l in f.readlines():\n",
    "        # ic(l)\n",
    "        _, p_pos, v_pos = l.rstrip().split(\"=\")\n",
    "        # ic(p_pos, v_pos)\n",
    "        p_x, p_y = p_pos[:p_pos.index(\" \")].split(\",\")\n",
    "        v_x, v_y = v_pos.split(\",\")\n",
    "        entry = {\n",
    "            \"p\": (int(p_x), int(p_y)),\n",
    "            \"v\": (int(v_x), int(v_y))\n",
    "        }\n",
    "        # ic(entry)\n",
    "        puzzle_input.append(entry)\n",
    "\n",
    "l = len(puzzle_input)\n",
    "_ = ic(l, puzzle_input) if l < 50 else ic(l)\n",
    "\n",
    "tm_begin = time.time()\n",
    "ic(time.ctime(tm_begin))"
   ]
  },
  {
   "cell_type": "code",
   "execution_count": 5,
   "id": "22d1ca90",
   "metadata": {},
   "outputs": [],
   "source": [
    "def show_map_with_robots(robots:list) -> list:\n",
    "    result = list()\n",
    "    for y in range(map_height):\n",
    "        line = \"\"\n",
    "        for x in range(map_width):\n",
    "            # which_at_xy = (r['p'] == (x,y) for r in robots)\n",
    "            count_at_xy = sum(r['p'] == (x,y) for r in robots)\n",
    "            # ic(which_at_xy)\n",
    "            line += f\"{count_at_xy:03}{\"-\" if x+1 < map_width else \"\"}\"\n",
    "        result.append(line)\n",
    "    return result\n",
    "\n",
    "# _ = ic(show_map_with_robots(puzzle_input))"
   ]
  },
  {
   "cell_type": "code",
   "execution_count": 6,
   "id": "22f0c535",
   "metadata": {},
   "outputs": [],
   "source": [
    "def move_robots_one_time(robots:list) -> list:\n",
    "    for r in robots:\n",
    "        new_x = (r['p'][0] + r['v'][0]) % map_width\n",
    "        new_y = (r['p'][1] + r['v'][1]) % map_height\n",
    "        r['p'] = (new_x, new_y)\n",
    "    return robots\n",
    "\n",
    "# one_robot_only = [\n",
    "#     {\"p\": (2, 4), \"v\": (2, -3)}\n",
    "# ]\n",
    "# _ = ic(\"0 sec\", show_map_with_robots(one_robot_only))\n",
    "# move_robots_one_time(one_robot_only)\n",
    "# # _ = ic(\"1 sec\", show_map_with_robots(one_robot_only))\n",
    "# move_robots_one_time(one_robot_only)\n",
    "# # _ = ic(\"2 sec\", show_map_with_robots(one_robot_only))\n",
    "# move_robots_one_time(one_robot_only)\n",
    "# # _ = ic(\"3 sec\", show_map_with_robots(one_robot_only))\n",
    "# move_robots_one_time(one_robot_only)\n",
    "# # _ = ic(\"4 sec\", show_map_with_robots(one_robot_only))\n",
    "# move_robots_one_time(one_robot_only)\n",
    "# _ = ic(\"5 sec\", show_map_with_robots(one_robot_only))\n",
    "# # move_robots_one_time(one_robot_only)\n",
    "# # _ = ic(\"6 sec\", show_map_with_robots(one_robot_only))"
   ]
  },
  {
   "cell_type": "code",
   "execution_count": 7,
   "id": "0b1f6042",
   "metadata": {},
   "outputs": [],
   "source": [
    "def quadrant(x, y) -> int:\n",
    "    \"\"\"\n",
    "    Return in which quadrant number the coordinate (x,y) is located\n",
    "    \"\"\"\n",
    "    assert(map_width % 2 == 1)\n",
    "    assert(map_height % 2 == 1)\n",
    "    q_width = map_width // 2\n",
    "    q_height = map_height // 2\n",
    "    if 0 <= x < q_width and 0 <= y < q_height:\n",
    "        return 1     \n",
    "    elif q_width < x < map_width and 0 <= y < q_height:\n",
    "        return 2\n",
    "    elif 0 <= x < q_width and q_height < y < map_height:\n",
    "        return 3\n",
    "    elif q_width < x < map_width and q_height < y < map_height:\n",
    "        return 4\n",
    "    else:\n",
    "        return 0"
   ]
  },
  {
   "cell_type": "code",
   "execution_count": 8,
   "id": "a09407cb",
   "metadata": {},
   "outputs": [],
   "source": [
    "def safety_factor(robots: list) -> int:\n",
    "    \"\"\"\n",
    "    Calculate the number of robots in each quadrant\n",
    "    \"\"\"\n",
    "    positions = [0, 0, 0, 0, 0]\n",
    "    for r in robots:\n",
    "        pos = r['p']\n",
    "        q = quadrant(pos[0], pos[1])\n",
    "        assert q in range(5)\n",
    "        positions[q] += 1\n",
    "    ic(positions)\n",
    "    return positions[1] * positions[2] * positions[3] * positions[4]\n",
    "\n",
    "# _ = ic(safety_factor(puzzle_input))"
   ]
  },
  {
   "cell_type": "code",
   "execution_count": 9,
   "id": "66f7b929",
   "metadata": {},
   "outputs": [],
   "source": [
    "# _ = ic(\"0 sec\", show_map_with_robots(puzzle_input))\n",
    "# for n in range(100):\n",
    "#     move_robots_one_time(puzzle_input)\n",
    "# _ = ic(\"100 sec\", show_map_with_robots(puzzle_input))"
   ]
  },
  {
   "cell_type": "code",
   "execution_count": 10,
   "id": "793a08d6-09b2-45be-86a8-96b2a41891e3",
   "metadata": {},
   "outputs": [
    {
     "name": "stderr",
     "output_type": "stream",
     "text": [
      "ic| positions: [9, 135, 121, 117, 118]\n",
      "ic| \"elapsed=\": 'elapsed='\n",
      "    tm_end - tm_begin: 0.14857101440429688\n",
      "    \"result=\": 'result='\n",
      "    part1_result: 225521010\n"
     ]
    },
    {
     "name": "stdout",
     "output_type": "stream",
     "text": [
      "Day 14 Part 1 RESULT:\n",
      "225521010\n"
     ]
    }
   ],
   "source": [
    "import copy\n",
    "\n",
    "def solve_part1():\n",
    "    part1_state = copy.deepcopy(puzzle_input)\n",
    "    for n in range(100):\n",
    "        move_robots_one_time(part1_state)\n",
    "    return safety_factor(part1_state)\n",
    "\n",
    "# tm_begin = time.time()\n",
    "part1_result = solve_part1()\n",
    "tm_end = time.time()\n",
    "ic(\"elapsed=\", tm_end - tm_begin, \"result=\", part1_result)\n",
    "print(\"Day 14 Part 1 RESULT:\")\n",
    "print(part1_result)"
   ]
  },
  {
   "cell_type": "markdown",
   "id": "fc439b96-c48d-482f-a0c9-a63572f7b7de",
   "metadata": {},
   "source": [
    "## Part 2"
   ]
  },
  {
   "cell_type": "markdown",
   "id": "644cf662",
   "metadata": {},
   "source": [
    "During the bathroom break, someone notices that these robots seem awfully similar to ones built and used at the North Pole. If they're the same type of robots, they should have a hard-coded Easter egg: very rarely, most of the robots should arrange themselves into a picture of a Christmas tree.\n",
    "\n",
    "What is the fewest number of seconds that must elapse for the robots to display the Easter egg?"
   ]
  },
  {
   "cell_type": "code",
   "execution_count": 11,
   "id": "3a971055",
   "metadata": {},
   "outputs": [],
   "source": [
    "from IPython.display import display,HTML\n",
    "from PIL import Image\n",
    "\n",
    "# im = Image.open(\"test_image1.png\")\n",
    "# ic(im.format, im.size, im.mode)\n",
    "# ic(im)\n",
    "# im.show()"
   ]
  },
  {
   "cell_type": "code",
   "execution_count": 12,
   "id": "38a26584",
   "metadata": {},
   "outputs": [],
   "source": [
    "\n",
    "def show_robots_as_png(robots:list) -> Image:\n",
    "\n",
    "    num_robots = len(robots)\n",
    "    list_of_pixels = []\n",
    "    k = 0\n",
    "    for y in range(map_height):\n",
    "        for x in range(map_width):\n",
    "            count_at_xy = sum(r['p'] == (x,y) for r in robots)\n",
    "            # ic(which_at_xy)\n",
    "            list_of_pixels.append(int(count_at_xy * 64) % 256)\n",
    "            k += 1\n",
    "\n",
    "    # ic(len(list_of_pixels), list_of_pixels)\n",
    "    pixels = bytes(list_of_pixels)\n",
    "    # ic(len(pixels), pixels)\n",
    "\n",
    "    # 8-bit pixels, grayscale\n",
    "    im = Image.frombytes(\n",
    "        mode = \"L\",\n",
    "        size = (map_width, map_height),\n",
    "        data = pixels\n",
    "    )\n",
    "    im2 = im.resize((map_width * 2, map_height * 2))\n",
    "    # im2 = im.resize((map_width * 4, map_height * 4))\n",
    "    # im2 = im.resize((map_width * 20, map_height * 20))\n",
    "    ...\n",
    "    return im"
   ]
  },
  {
   "cell_type": "code",
   "execution_count": 13,
   "id": "037eaf25",
   "metadata": {},
   "outputs": [],
   "source": [
    "import os"
   ]
  },
  {
   "cell_type": "code",
   "execution_count": 14,
   "id": "9f67cd7a",
   "metadata": {},
   "outputs": [
    {
     "name": "stderr",
     "output_type": "stream",
     "text": [
      "ic| 'Image', n_iterations: 7700, entropy: 0.28072540078531005\n",
      "ic| n_iterations: 7700\n"
     ]
    },
    {
     "data": {
      "image/jpeg": "[encoded data removed]",
      "image/png": "[encoded data removed]",
      "text/plain": [
       "<PIL.Image.Image image mode=L size=101x103>"
      ]
     },
     "metadata": {},
     "output_type": "display_data"
    },
    {
     "name": "stderr",
     "output_type": "stream",
     "text": [
      "ic| 'Image', n_iterations: 7707, entropy: 0.2799133006251351\n",
      "ic| n_iterations: 7707\n"
     ]
    },
    {
     "data": {
      "image/jpeg": "[encoded data removed]",
      "image/png": "[encoded data removed]",
      "text/plain": [
       "<PIL.Image.Image image mode=L size=101x103>"
      ]
     },
     "metadata": {},
     "output_type": "display_data"
    },
    {
     "name": "stderr",
     "output_type": "stream",
     "text": [
      "ic| 'Image', n_iterations: 7713, entropy: 0.27967895421985994\n",
      "ic| n_iterations: 7713\n"
     ]
    },
    {
     "data": {
      "image/jpeg": "[encoded data removed]",
      "image/png": "[encoded data removed]",
      "text/plain": [
       "<PIL.Image.Image image mode=L size=101x103>"
      ]
     },
     "metadata": {},
     "output_type": "display_data"
    },
    {
     "name": "stderr",
     "output_type": "stream",
     "text": [
      "ic| 'Image', n_iterations: 7774, entropy: 0.27811128522623413\n",
      "ic| n_iterations: 7774\n"
     ]
    },
    {
     "data": {
      "image/jpeg": "[encoded data removed]",
      "image/png": "[encoded data removed]",
      "text/plain": [
       "<PIL.Image.Image image mode=L size=101x103>"
      ]
     },
     "metadata": {},
     "output_type": "display_data"
    },
    {
     "name": "stderr",
     "output_type": "stream",
     "text": [
      "ic| \"I believe we found the solution, haven't we?\"\n",
      "ic| least_entropic[0]: 7774\n"
     ]
    },
    {
     "data": {
      "text/plain": [
       "7774"
      ]
     },
     "execution_count": 14,
     "metadata": {},
     "output_type": "execute_result"
    }
   ],
   "source": [
    "part2_state = copy.deepcopy(puzzle_input)\n",
    "n_iterations = 0\n",
    "least_entropic = [0, 1.0]\n",
    "\n",
    "# OUTDIR = \"out\"\n",
    "# if not os.path.isdir(OUTDIR):\n",
    "#     os.mkdir(OUTDIR)    \n",
    "for i in range(map_width * map_height):\n",
    "    move_robots_one_time(puzzle_input)\n",
    "    n_iterations += 1\n",
    "    # if n_iterations % 10 == 0:\n",
    "    #     ic(n_iterations)\n",
    "    if n_iterations < 7700:\n",
    "        continue\n",
    "\n",
    "    im = show_robots_as_png(puzzle_input)\n",
    "    entropy = im.entropy()\n",
    "    if entropy < least_entropic[1]:\n",
    "        ic(\"Image\", n_iterations, entropy)\n",
    "        least_entropic[0] = n_iterations\n",
    "        least_entropic[1] = entropy\n",
    "        ic(n_iterations)\n",
    "        display(im)\n",
    "    # outfile = f\"{OUTDIR}/frame{n_iterations:04}.png\"\n",
    "    # if not os.path.isfile(outfile):\n",
    "    #     im.save(outfile, \"PNG\")\n",
    "    if entropy < 0.2782:\n",
    "        ic(\"I believe we found the solution, haven't we?\")\n",
    "        break\n",
    "\n",
    "ic(least_entropic[0])"
   ]
  },
  {
   "cell_type": "markdown",
   "id": "7e1afd5a",
   "metadata": {},
   "source": [
    "If you have saved the PNG files, after all the PNG files have been created, open a terminal and sort them by file size\n",
    "\n",
    "```bash\n",
    "find solutions/gmacario/day14/out/ -ls | sort -k 7 | head -10\n",
    "```\n",
    "\n",
    "Result:\n",
    "\n",
    "```text\n",
    "aoc-2024-py3.12gmacario@hw2482:~/github/B-AROL-O/aoc-2024$ find solutions/gmacario/day14/out/ -ls | sort -k 7 | head -10\n",
    "  7592746      4 -rw-rw-r--   1 gmacario gmacario      528 Dec 14 09:42 solutions/gmacario/day14/out/frame7674.png\n",
    "  7579322      4 -rw-rw-r--   1 gmacario gmacario      651 Dec 14 08:51 solutions/gmacario/day14/out/frame0258.png\n",
    "  7588523      4 -rw-rw-r--   1 gmacario gmacario      662 Dec 14 09:13 solutions/gmacario/day14/out/frame3451.png\n",
    "  7593261      4 -rw-rw-r--   1 gmacario gmacario      662 Dec 14 09:46 solutions/gmacario/day14/out/frame8189.png\n",
    "  7580043      4 -rw-rw-r--   1 gmacario gmacario      663 Dec 14 08:56 solutions/gmacario/day14/out/frame0979.png\n",
    "  7591304      4 -rw-rw-r--   1 gmacario gmacario      663 Dec 14 09:32 solutions/gmacario/day14/out/frame6232.png\n",
    "  7591407      4 -rw-rw-r--   1 gmacario gmacario      663 Dec 14 09:33 solutions/gmacario/day14/out/frame6335.png\n",
    "  7589759      4 -rw-rw-r--   1 gmacario gmacario      666 Dec 14 09:22 solutions/gmacario/day14/out/frame4687.png\n",
    "  7579940      4 -rw-rw-r--   1 gmacario gmacario      667 Dec 14 08:55 solutions/gmacario/day14/out/frame0876.png\n",
    "  7589244      4 -rw-rw-r--   1 gmacario gmacario      667 Dec 14 09:18 solutions/gmacario/day14/out/frame4172.png\n",
    "aoc-2024-py3.12gmacario@hw2482:~/github/B-AROL-O/aoc-2024$\n",
    "```\n",
    "\n",
    "The smallest file corresponds to the image with least entropy "
   ]
  },
  {
   "cell_type": "code",
   "execution_count": 15,
   "id": "9db4b5d8-8a95-4bd3-807b-1bf14d991d90",
   "metadata": {},
   "outputs": [
    {
     "name": "stderr",
     "output_type": "stream",
     "text": [
      "ic| \"elapsed=\": 'elapsed='\n",
      "    tm_end - tm_begin: 29.907503366470337\n",
      "    \"result=\": 'result='\n",
      "    part2_result: 7774\n"
     ]
    },
    {
     "name": "stdout",
     "output_type": "stream",
     "text": [
      "Day 14 Part 2 RESULT:\n",
      "7774\n"
     ]
    }
   ],
   "source": [
    "def solve_part2():\n",
    "    return least_entropic[0]\n",
    "\n",
    "# tm_begin = time.time()\n",
    "part2_result = solve_part2()\n",
    "tm_end = time.time()\n",
    "ic(\"elapsed=\", tm_end - tm_begin, \"result=\", part2_result)\n",
    "print(\"Day 14 Part 2 RESULT:\")\n",
    "print(part2_result)"
   ]
  }
 ],
 "metadata": {
  "kernelspec": {
   "display_name": "aoc-2024-Uq7HKp2W-py3.12",
   "language": "python",
   "name": "python3"
  },
  "language_info": {
   "codemirror_mode": {
    "name": "ipython",
    "version": 3
   },
   "file_extension": ".py",
   "mimetype": "text/x-python",
   "name": "python",
   "nbconvert_exporter": "python",
   "pygments_lexer": "ipython3",
   "version": "3.12.3"
  }
 },
 "nbformat": 4,
 "nbformat_minor": 5
}
