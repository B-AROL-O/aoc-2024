{
 "cells": [
  {
   "cell_type": "markdown",
   "id": "e8c36490-ac44-4e4f-9fc3-97d15fbef673",
   "metadata": {},
   "source": [
    "# AoC 2024 - Day 7\n",
    "\n",
    "<https://adventofcode.com/2024/day/7>"
   ]
  },
  {
   "cell_type": "code",
   "execution_count": 1,
   "id": "6b7c6dc6-b77c-47e0-ac97-33f7f86c484c",
   "metadata": {},
   "outputs": [],
   "source": [
    "from icecream import ic\n",
    "import time"
   ]
  },
  {
   "cell_type": "code",
   "execution_count": 2,
   "id": "6c8149a1-7aed-4bfb-8ec9-748c65077d45",
   "metadata": {},
   "outputs": [],
   "source": [
    "# use_test = True  # Comment out for using actual puzzle input"
   ]
  },
  {
   "cell_type": "markdown",
   "id": "f3458754-aa32-44e5-b229-4f519108459e",
   "metadata": {},
   "source": [
    "## Part 1"
   ]
  },
  {
   "cell_type": "code",
   "execution_count": 3,
   "id": "b8ac6332-ebd1-424b-a781-df1771e81be8",
   "metadata": {},
   "outputs": [
    {
     "name": "stderr",
     "output_type": "stream",
     "text": [
      "ic| 'use_test was undefined - forcing to', use_test: False\n"
     ]
    }
   ],
   "source": [
    "test = \"\"\"190: 10 19\n",
    "3267: 81 40 27\n",
    "83: 17 5\n",
    "156: 15 6\n",
    "7290: 6 8 6 15\n",
    "161011: 16 10 13\n",
    "192: 17 8 14\n",
    "21037: 9 7 18 13\n",
    "292: 11 6 16 20\n",
    "\"\"\"\n",
    "\n",
    "try:\n",
    "    use_test\n",
    "except NameError:\n",
    "    use_test = False\n",
    "    ic(\"use_test was undefined - forcing to\", use_test)\n",
    "    \n",
    "if use_test:\n",
    "    assert test != None"
   ]
  },
  {
   "cell_type": "code",
   "execution_count": 4,
   "id": "6ac2a9c0-ef2f-496b-acd2-f8b47c89860b",
   "metadata": {},
   "outputs": [
    {
     "name": "stderr",
     "output_type": "stream",
     "text": [
      "ic| time.ctime(): 'Sat Dec  7 12:29:07 2024'\n"
     ]
    }
   ],
   "source": [
    "# Read the puzzle input into a list of strings, one per line\n",
    "#\n",
    "if use_test:\n",
    "    input_lines = test.splitlines()    # Uncomment for debug\n",
    "else:\n",
    "    with open(\"input_day07_gmacario.txt\", 'r') as file:\n",
    "        input_lines = [line.rstrip() for line in file]\n",
    "\n",
    "ic(time.ctime())\n",
    "if use_test:\n",
    "    ic(input_lines)"
   ]
  },
  {
   "cell_type": "code",
   "execution_count": 5,
   "id": "205f3d2b-403d-47cb-8270-145a341b1ecc",
   "metadata": {},
   "outputs": [],
   "source": [
    "def line_to_test_entry(line: str) -> tuple:\n",
    "    \"\"\"\n",
    "    Convert one line of the puzzle input into a tuple\n",
    "    - key: the result of the calibration test\n",
    "    - operands: a list of the operands in the equation\n",
    "    \"\"\"\n",
    "    key = int(line.split(\":\")[0])\n",
    "    operands = list(map(int, list(line.split(\" \")[1:])))\n",
    "    # ic(key, operands)\n",
    "    result = (key, operands)\n",
    "    # ic(line, result)\n",
    "    return result\n",
    "\n",
    "if use_test:\n",
    "    ic(line_to_test_entry(input_lines[0]))"
   ]
  },
  {
   "cell_type": "code",
   "execution_count": 6,
   "id": "d35b2b1a-a493-4c55-8696-a4af4299708a",
   "metadata": {},
   "outputs": [],
   "source": [
    "test_equations = [line_to_test_entry(l) for l in input_lines]\n",
    "\n",
    "if use_test:\n",
    "    ic(test_equations)"
   ]
  },
  {
   "cell_type": "code",
   "execution_count": 7,
   "id": "b01cf872-6e6b-4cbd-b484-3b4ebfede2ab",
   "metadata": {},
   "outputs": [],
   "source": [
    "def eval_equation(expected_result: int, operands: tuple, operators: tuple) -> bool:\n",
    "    \"\"\"\n",
    "    Return True if the equation evaluates to expected_result\n",
    "    \"\"\"\n",
    "\n",
    "    assert len(operators) > 0\n",
    "    assert len(operands) == len(operators) + 1\n",
    "    \n",
    "    total = operands[0]\n",
    "\n",
    "    for operand, operator in zip(operands[1:], operators):\n",
    "        # ic(total, operand, operator)\n",
    "        if operator == '+':\n",
    "            total += operand\n",
    "        elif operator == '*':\n",
    "            total *= operand\n",
    "        elif operator == '||':\n",
    "            total = int(str(total) + str(operand))\n",
    "        else:\n",
    "            assert False, ic(\"Wrong operator:\", operator)\n",
    "        if total > expected_result:\n",
    "            return False\n",
    "\n",
    "    return total == expected_result"
   ]
  },
  {
   "cell_type": "code",
   "execution_count": 8,
   "id": "03896837-6eb5-4003-a940-bd637c273656",
   "metadata": {},
   "outputs": [],
   "source": [
    "import itertools\n",
    "\n",
    "def gen_operator(possible_operators: tuple):\n",
    "    for op in possible_operators:\n",
    "        yield op\n",
    "\n",
    "def gen_operators(possible_operators: tuple, length: int):\n",
    "    for sequence in itertools.product(possible_operators, repeat=length):\n",
    "        yield sequence\n",
    "\n",
    "def solve_equation(result: int, operands: tuple, possible_operators: tuple) -> tuple:\n",
    "    # ic(\"solve_equation\", result, operands)\n",
    "    num_operators = len(operands) - 1\n",
    "    \n",
    "    ops = gen_operators(possible_operators, num_operators)\n",
    "    for seq2 in ops:\n",
    "        # ic(\"Testing\", seq2)\n",
    "        if eval_equation(result, operands, seq2):\n",
    "            # ic(\"solve_equation: OK for\", result, operands, seq2)\n",
    "            return tuple(seq2)\n",
    "        \n",
    "    # ic(\"WARNING: No results found\", result, total)\n",
    "    return None"
   ]
  },
  {
   "cell_type": "code",
   "execution_count": 9,
   "id": "64b57e8b-70a5-4dc3-b738-25239bcf28f4",
   "metadata": {},
   "outputs": [
    {
     "name": "stderr",
     "output_type": "stream",
     "text": [
      "ic| \"elapsed=\": 'elapsed='\n",
      "    tm_end - tm_begin: 0.2131354808807373\n",
      "    \"result=\": 'result='\n",
      "    part1_result: 932137732557\n"
     ]
    },
    {
     "name": "stdout",
     "output_type": "stream",
     "text": [
      "Day 07 Part 1 RESULT:\n",
      "932137732557\n"
     ]
    }
   ],
   "source": [
    "def solve_part1(test_equations):\n",
    "    result = 0\n",
    "    for eq in test_equations:\n",
    "        if solve_equation(eq[0], eq[1], ('+', '*')) != None:\n",
    "            result += eq[0]\n",
    "    return result\n",
    "\n",
    "tm_begin = time.time()\n",
    "part1_result = solve_part1(test_equations)\n",
    "tm_end = time.time()\n",
    "ic(\"elapsed=\", tm_end - tm_begin, \"result=\", part1_result)\n",
    "print(\"Day 07 Part 1 RESULT:\")\n",
    "print(part1_result)"
   ]
  },
  {
   "cell_type": "markdown",
   "id": "fc439b96-c48d-482f-a0c9-a63572f7b7de",
   "metadata": {},
   "source": [
    "## Part 2"
   ]
  },
  {
   "cell_type": "code",
   "execution_count": 10,
   "id": "51de10dc-4093-4fce-bd21-50ef40cdf1dd",
   "metadata": {},
   "outputs": [
    {
     "name": "stderr",
     "output_type": "stream",
     "text": [
      "ic| \"elapsed=\": 'elapsed='\n",
      "    tm_end - tm_begin: 15.438014268875122\n",
      "    \"result=\": 'result='\n",
      "    part2_result: 661823605105500\n"
     ]
    },
    {
     "name": "stdout",
     "output_type": "stream",
     "text": [
      "Day 07 Part 2 RESULT:\n",
      "661823605105500\n"
     ]
    }
   ],
   "source": [
    "def solve_part2(test_equations):\n",
    "    result = 0\n",
    "    for eq in test_equations:\n",
    "        if solve_equation(eq[0], eq[1], ('+', '*', '||')) != None:\n",
    "            result += eq[0]\n",
    "    return result\n",
    "\n",
    "tm_begin = time.time()\n",
    "part2_result = solve_part2(test_equations)\n",
    "tm_end = time.time()\n",
    "ic(\"elapsed=\", tm_end - tm_begin, \"result=\", part2_result)\n",
    "print(\"Day 07 Part 2 RESULT:\")\n",
    "print(part2_result)"
   ]
  }
 ],
 "metadata": {
  "kernelspec": {
   "display_name": "Python 3 (ipykernel)",
   "language": "python",
   "name": "python3"
  },
  "language_info": {
   "codemirror_mode": {
    "name": "ipython",
    "version": 3
   },
   "file_extension": ".py",
   "mimetype": "text/x-python",
   "name": "python",
   "nbconvert_exporter": "python",
   "pygments_lexer": "ipython3",
   "version": "3.11.10"
  }
 },
 "nbformat": 4,
 "nbformat_minor": 5
}
