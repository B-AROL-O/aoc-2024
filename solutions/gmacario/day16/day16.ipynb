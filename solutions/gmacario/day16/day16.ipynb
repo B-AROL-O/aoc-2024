{
 "cells": [
  {
   "cell_type": "markdown",
   "id": "e8c36490-ac44-4e4f-9fc3-97d15fbef673",
   "metadata": {},
   "source": [
    "# AoC 2024 - Day 16\n",
    "\n",
    "<https://adventofcode.com/2024/day/16>"
   ]
  },
  {
   "cell_type": "markdown",
   "id": "577a1d89",
   "metadata": {},
   "source": []
  },
  {
   "cell_type": "code",
   "execution_count": 1,
   "id": "6b7c6dc6-b77c-47e0-ac97-33f7f86c484c",
   "metadata": {},
   "outputs": [],
   "source": [
    "# Parameters\n",
    "# \n",
    "day = 16\n",
    "\n",
    "FILENAME = \"day16_test1.txt\"\n",
    "#\n",
    "# FILENAME = \"day16_input_gmacario.txt\""
   ]
  },
  {
   "cell_type": "code",
   "execution_count": 2,
   "id": "6c8149a1-7aed-4bfb-8ec9-748c65077d45",
   "metadata": {},
   "outputs": [],
   "source": [
    "# Import\n",
    "from icecream import ic\n",
    "import time"
   ]
  },
  {
   "cell_type": "markdown",
   "id": "f3458754-aa32-44e5-b229-4f519108459e",
   "metadata": {},
   "source": [
    "## Part 1"
   ]
  },
  {
   "cell_type": "code",
   "execution_count": 3,
   "id": "6ac2a9c0-ef2f-496b-acd2-f8b47c89860b",
   "metadata": {},
   "outputs": [
    {
     "name": "stderr",
     "output_type": "stream",
     "text": [
      "ic| time.ctime(): 'Mon Dec 16 18:33:00 2024'\n",
      "ic| time.ctime(tm_begin): 'Mon Dec 16 18:33:00 2024"
     ]
    },
    {
     "name": "stderr",
     "output_type": "stream",
     "text": [
      "'\n"
     ]
    },
    {
     "data": {
      "text/plain": [
       "'Mon Dec 16 18:33:00 2024'"
      ]
     },
     "execution_count": 3,
     "metadata": {},
     "output_type": "execute_result"
    }
   ],
   "source": [
    "# Read the puzzle input into a list of strings, one per line\n",
    "#\n",
    "with open(FILENAME, 'r') as file:\n",
    "    input_lines = [line.rstrip() for line in file]\n",
    "\n",
    "ic(time.ctime())\n",
    "\n",
    "tm_begin = time.time()\n",
    "ic(time.ctime(tm_begin))"
   ]
  },
  {
   "cell_type": "code",
   "execution_count": 4,
   "id": "c8acbc8f-642f-4c0b-83df-c0e8418c88d1",
   "metadata": {},
   "outputs": [
    {
     "name": "stderr",
     "output_type": "stream",
     "text": [
      "ic| input_lines: ['###############',\n",
      "                  '#.......#....E#',\n",
      "                  '#.#.###.#.###.#',\n",
      "                  '#.....#.#...#.#',\n",
      "                  '#.###.#####.#.#',\n",
      "                  '#.#.#.......#.#',\n",
      "                  '#.#.#####.###.#',\n",
      "                  '#...........#.#',\n",
      "                  '###.#.#####.#.#',\n",
      "                  '#...#.....#.#.#',\n",
      "                  '#.#.#.###.#.#.#',\n",
      "                  '#.....#...#.#.#',\n",
      "                  '#.###.#.#.#.#.#',\n",
      "                  '#S..#.....#...#',\n",
      "                  '###############']\n",
      "ic| map_width: 15, map_height: 15\n",
      "ic| map_state: [['#', '#', '#', '#', '#', '#', '#', '#', '#', '#', '#', '#', '#', '#', '#'],\n",
      "                ['#', '.', '.', '.', '.', '.', '.', '.', '#', '.', '.', '.', '.', 'E', '#'],\n",
      "                ['#', '.', '#', '.', '#', '#', '#', '.', '#', '.', '#', '#', '#', '.', '#'],\n",
      "                ['#', '.', '.', '.', '.', '.', '#', '.', '#', '.', '.', '.', '#', '.', '#'],\n",
      "                ['#', '.', '#', '#', '#', '.', '#', '#', '#', '#', '#', '.', '#', '.', '#'],\n",
      "                ['#', '.', '#', '.', '#', '.', '.', '.', '.', '.', '.', '.', '#', '.', '#'],\n",
      "                ['#', '.', '#', '.', '#', '#', '#', '#', '#', '.', '#', '#', '#', '.', '#'],\n",
      "                ['#', '.', '.', '.', '.', '.', '.', '.', '.', '.', '.', '.', '#', '.', '#'],\n",
      "                ['#', '#', '#', '.', '#', '.', '#', '#', '#', '#', '#', '.', '#', '.', '#'],\n",
      "                ['#', '.', '.', '.', '#', '.', '.', '.', '.', '.', '#', '.', '#', '.', '#'],\n",
      "                ['#', '.', '#', '.', '#', '.', '#', '#', '#', '.', '#', '.', '#', '.', '#'],\n",
      "                ['#', '.', '.', '.', '.', '.', '#', '.', '.', '.', '#', '.', '#', '.', '#'],\n",
      "                ['#', '.', '#', '#', '#', '.', '#', '.', '#', '.', '#', '.', '#', '.', '#'],\n",
      "                ['#', 'S', '.', '.', '#', '.', '.', '.', '.', '.', '#', '.', '.', '.', '#'],\n",
      "                ['#', '#', '#', '#', '#', '#', '#', '#', '#', '#', '#', '#', '#', '#', '#']]\n"
     ]
    }
   ],
   "source": [
    "_ = ic(input_lines)\n",
    "\n",
    "map_state = []\n",
    "\n",
    "for l in input_lines:\n",
    "    map_state.append(list(l))\n",
    "\n",
    "map_width = len(map_state[0])\n",
    "map_height = len(map_state)\n",
    "\n",
    "_ = ic(map_width, map_height)\n",
    "_ = ic(map_state) if map_width < 20 else None"
   ]
  },
  {
   "cell_type": "code",
   "execution_count": 5,
   "id": "4fda534a",
   "metadata": {},
   "outputs": [
    {
     "name": "stderr",
     "output_type": "stream",
     "text": [
      "ic| printable_map(map_state): ['###############',\n",
      "                               '#.......#....E#',\n",
      "                               '#.#.###.#.###.#',\n",
      "                               '#.....#.#...#.#',\n",
      "                               '#.###.#####.#.#',\n",
      "                               '#.#.#.......#.#',\n",
      "                               '#.#.#####.###.#',\n",
      "                               '#...........#.#',\n",
      "                               '###.#.#####.#.#',\n",
      "                               '#...#.....#.#.#',\n",
      "                               '#.#.#.###.#.#.#',\n",
      "                               '#.....#...#.#.#',\n",
      "                               '#.###.#.#.#.#.#',\n",
      "                               '#S..#.....#...#',\n",
      "                               '###############']\n"
     ]
    }
   ],
   "source": [
    "def printable_map(map:list) -> str:\n",
    "    result = []\n",
    "    for l in map:\n",
    "        result.append(''.join(l))\n",
    "    return result\n",
    "\n",
    "_ = ic(printable_map(map_state))\n",
    "# _ = ic(map_state)"
   ]
  },
  {
   "cell_type": "code",
   "execution_count": 6,
   "id": "0885096c",
   "metadata": {},
   "outputs": [
    {
     "name": "stderr",
     "output_type": "stream",
     "text": [
      "ic| count_items(map_state): {'#': 121, '.': 102, 'E': 1, 'S': 1}\n"
     ]
    }
   ],
   "source": [
    "def count_items(map:list) -> dict:\n",
    "    result = dict()\n",
    "    \n",
    "    for r in range(len(map)):\n",
    "        for c in range(len(map[0])):\n",
    "            ch = map[r][c]\n",
    "            result[ch] = result.get(ch, 0) + 1\n",
    "    return result\n",
    "\n",
    "_ = ic(count_items(map_state))"
   ]
  },
  {
   "cell_type": "code",
   "execution_count": 7,
   "id": "b9a78b0a",
   "metadata": {},
   "outputs": [],
   "source": [
    "def consistency_checks(map:list):\n",
    "    x = count_items(map)\n",
    "    assert x['S'] == 1, f\"Wrong S: {x}\"\n",
    "    assert x['E'] == 1, f\"Wrong E: {x}\"\n",
    "\n",
    "consistency_checks(map_state)"
   ]
  },
  {
   "cell_type": "code",
   "execution_count": 8,
   "id": "1c049b58",
   "metadata": {},
   "outputs": [
    {
     "name": "stderr",
     "output_type": "stream",
     "text": [
      "ic| find_start(map_state): (13, 1)\n"
     ]
    }
   ],
   "source": [
    "def find_start(map:list) -> tuple:\n",
    "    for r in range(len(map)):\n",
    "        for c in range(len(map[0])):\n",
    "            if map[r][c] == 'S':\n",
    "                return (r, c)\n",
    "    \n",
    "    return None\n",
    "\n",
    "_ = ic(find_start(map_state))"
   ]
  },
  {
   "cell_type": "code",
   "execution_count": 9,
   "id": "0eac7bf8-becc-40de-a3d2-f81ca298b2e5",
   "metadata": {},
   "outputs": [
    {
     "ename": "AssertionError",
     "evalue": "",
     "output_type": "error",
     "traceback": [
      "\u001b[0;31m---------------------------------------------------------------------------\u001b[0m",
      "\u001b[0;31mAssertionError\u001b[0m                            Traceback (most recent call last)",
      "Cell \u001b[0;32mIn[9], line 1\u001b[0m\n\u001b[0;32m----> 1\u001b[0m \u001b[38;5;28;01massert\u001b[39;00m \u001b[38;5;28;01mFalse\u001b[39;00m \u001b[38;5;66;03m# TODO\u001b[39;00m\n",
      "\u001b[0;31mAssertionError\u001b[0m: "
     ]
    }
   ],
   "source": [
    "assert False # TODO"
   ]
  },
  {
   "cell_type": "code",
   "execution_count": null,
   "id": "793a08d6-09b2-45be-86a8-96b2a41891e3",
   "metadata": {},
   "outputs": [],
   "source": [
    "def solve_part1():\n",
    "    result = False\n",
    "    ...\n",
    "    return result\n",
    "\n",
    "# tm_begin = time.time()\n",
    "part1_result = solve_part1()\n",
    "tm_end = time.time()\n",
    "ic(\"elapsed=\", tm_end - tm_begin, \"result=\", part1_result)\n",
    "print(f\"Day {day} Part 1 RESULT:\")\n",
    "print(part1_result)"
   ]
  },
  {
   "cell_type": "markdown",
   "id": "fc439b96-c48d-482f-a0c9-a63572f7b7de",
   "metadata": {},
   "source": [
    "## Part 2"
   ]
  },
  {
   "cell_type": "code",
   "execution_count": null,
   "id": "8555a6fb-c520-46f9-b6da-46cdc09b0ee7",
   "metadata": {},
   "outputs": [],
   "source": [
    "assert False # TODO"
   ]
  },
  {
   "cell_type": "code",
   "execution_count": null,
   "id": "51de10dc-4093-4fce-bd21-50ef40cdf1dd",
   "metadata": {},
   "outputs": [],
   "source": [
    "def solve_part2():\n",
    "    result = False\n",
    "    ...\n",
    "    return result\n",
    "\n",
    "# tm_begin = time.time()\n",
    "part2_result = solve_part2()\n",
    "tm_end = time.time()\n",
    "ic(\"elapsed=\", tm_end - tm_begin, \"result=\", part2_result)\n",
    "print(f\"Day {day} Part 2 RESULT:\")\n",
    "print(part2_result)"
   ]
  }
 ],
 "metadata": {
  "kernelspec": {
   "display_name": "aoc-2024-Uq7HKp2W-py3.12",
   "language": "python",
   "name": "python3"
  },
  "language_info": {
   "codemirror_mode": {
    "name": "ipython",
    "version": 3
   },
   "file_extension": ".py",
   "mimetype": "text/x-python",
   "name": "python",
   "nbconvert_exporter": "python",
   "pygments_lexer": "ipython3",
   "version": "3.12.3"
  }
 },
 "nbformat": 4,
 "nbformat_minor": 5
}
