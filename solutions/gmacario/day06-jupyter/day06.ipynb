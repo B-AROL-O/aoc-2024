{
 "cells": [
  {
   "cell_type": "markdown",
   "id": "e8c36490-ac44-4e4f-9fc3-97d15fbef673",
   "metadata": {},
   "source": [
    "# AoC 2024 - Day 6\n",
    "\n",
    "<https://adventofcode.com/2024/day/6>"
   ]
  },
  {
   "cell_type": "code",
   "execution_count": 1,
   "id": "6b7c6dc6-b77c-47e0-ac97-33f7f86c484c",
   "metadata": {},
   "outputs": [],
   "source": [
    "from icecream import ic\n",
    "import time"
   ]
  },
  {
   "cell_type": "code",
   "execution_count": 2,
   "id": "ce95fcd8-b43c-47b9-892a-fbeb03ab88cf",
   "metadata": {},
   "outputs": [],
   "source": [
    "# use_test = True  # Comment out for using actual puzzle input"
   ]
  },
  {
   "cell_type": "code",
   "execution_count": 3,
   "id": "d5ac04f4-ea76-4e7b-a1b7-30db5b5cb586",
   "metadata": {},
   "outputs": [
    {
     "name": "stderr",
     "output_type": "stream",
     "text": [
      "ic| time.ctime(): 'Sun Dec  8 12:06:56 2024'\n"
     ]
    },
    {
     "data": {
      "text/plain": [
       "'Sun Dec  8 12:06:56 2024'"
      ]
     },
     "execution_count": 3,
     "metadata": {},
     "output_type": "execute_result"
    }
   ],
   "source": [
    "ic(time.ctime())"
   ]
  },
  {
   "cell_type": "markdown",
   "id": "f3458754-aa32-44e5-b229-4f519108459e",
   "metadata": {},
   "source": [
    "## Part 1"
   ]
  },
  {
   "cell_type": "code",
   "execution_count": 4,
   "id": "b8ac6332-ebd1-424b-a781-df1771e81be8",
   "metadata": {},
   "outputs": [
    {
     "name": "stderr",
     "output_type": "stream",
     "text": [
      "ic| 'WARNING: use_test undefined - forcing', use_test: False\n"
     ]
    }
   ],
   "source": [
    "test_data = \"\"\"....#.....\n",
    ".........#\n",
    "..........\n",
    "..#.......\n",
    ".......#..\n",
    "..........\n",
    ".#..^.....\n",
    "........#.\n",
    "#.........\n",
    "......#...\n",
    "\"\"\"\n",
    "\n",
    "try:\n",
    "    use_test\n",
    "except NameError:\n",
    "    use_test = False\n",
    "    ic(\"WARNING: use_test undefined - forcing\", use_test)\n",
    "    \n",
    "if use_test:\n",
    "    assert test_data != None"
   ]
  },
  {
   "cell_type": "code",
   "execution_count": 5,
   "id": "6ac2a9c0-ef2f-496b-acd2-f8b47c89860b",
   "metadata": {},
   "outputs": [],
   "source": [
    "# Read the puzzle input into a list of strings, one per line\n",
    "#\n",
    "if use_test:\n",
    "    input_lines = test_data.splitlines()    # Uncomment for debug\n",
    "else:\n",
    "    with open(\"input_day06_gmacario.txt\", 'r') as file:\n",
    "        input_lines = [line.rstrip() for line in file]\n",
    "\n",
    "# if use_test:\n",
    "#     ic(input_lines)"
   ]
  },
  {
   "cell_type": "code",
   "execution_count": 6,
   "id": "6938a781-bdb9-4c95-b56a-b990c68c448f",
   "metadata": {},
   "outputs": [
    {
     "name": "stderr",
     "output_type": "stream",
     "text": [
      "ic| map_width: 130, map_height: 130\n"
     ]
    }
   ],
   "source": [
    "input_map = list()\n",
    "for l in input_lines:\n",
    "    # ic(l)\n",
    "    # l = [l[ch:ch+1] for ch in range(len(l))]\n",
    "    map_row = []\n",
    "    for k in range(len(l)):\n",
    "        ch = l[k:k+1]\n",
    "        assert ch in [\".\", \"^\", \"#\"], ic(\"ERROR: Unknown ch\", ch)\n",
    "        map_row.append(ch)\n",
    "    input_map.append(map_row)\n",
    "\n",
    "map_width = len(input_map[0])\n",
    "map_height = len(input_map)\n",
    "# ic(input_map)\n",
    "ic(map_width, map_height)\n",
    "assert all([len(row) == map_width for row in input_map])"
   ]
  },
  {
   "cell_type": "code",
   "execution_count": 7,
   "id": "aa1580c1-3f81-4779-ad48-d6b12e9fddac",
   "metadata": {},
   "outputs": [],
   "source": [
    "def count_element(lab_map, el):\n",
    "    \"\"\"\n",
    "    Returns how many times el is found in lab_map\n",
    "    \"\"\"\n",
    "    return sum([row[c] == el for row in lab_map for c in range(len(lab_map))])"
   ]
  },
  {
   "cell_type": "code",
   "execution_count": 8,
   "id": "541d53ed-3b6c-46e5-9fb1-77792ee3fd16",
   "metadata": {},
   "outputs": [
    {
     "name": "stderr",
     "output_type": "stream",
     "text": [
      "ic| [count_element(input_map, ch) for ch in [\".\", \"^\", \"V\", \"<\", \">\", \"#\", \"X\"]]: [16082, 1, 0, 0, 0, 817, 0]\n"
     ]
    },
    {
     "data": {
      "text/plain": [
       "[16082, 1, 0, 0, 0, 817, 0]"
      ]
     },
     "execution_count": 8,
     "metadata": {},
     "output_type": "execute_result"
    }
   ],
   "source": [
    "ic([count_element(input_map, ch) for ch in [\".\", \"^\", \"V\", \"<\", \">\", \"#\", \"X\"]])"
   ]
  },
  {
   "cell_type": "code",
   "execution_count": 9,
   "id": "42eb54db-e0d9-4aa1-9e94-96ae895e9386",
   "metadata": {},
   "outputs": [],
   "source": [
    "def sanity_checks(lab_map):\n",
    "    map_width = len(lab_map[0])\n",
    "    map_height = len(lab_map)\n",
    "    # ic(lab_map)\n",
    "    # ic(map_width, map_height)\n",
    "    assert all([len(row) == map_width for row in lab_map])\n",
    "    assert all([row[c] in [\".\", \"^\", \"V\", \"<\", \">\", \"#\", \"X\", \"|\", \"-\", \"+\", \"O\"] for row in lab_map for c in range(map_width)])\n",
    "    assert sum([row[c] in [\"^\", \"V\", \"<\", \">\"] for row in lab_map for c in range(map_width)]) == 1\n",
    "\n",
    "sanity_checks(input_map)"
   ]
  },
  {
   "cell_type": "code",
   "execution_count": 10,
   "id": "dd102a37-15be-4067-ab1e-e2f749904754",
   "metadata": {},
   "outputs": [],
   "source": [
    "def find_guard(lab_map):\n",
    "    \"\"\"\n",
    "    Return (rownum, colnum, orientation)\n",
    "    \"\"\"\n",
    "    r = 0\n",
    "    for row in lab_map:\n",
    "        c = 0\n",
    "        for ch in row:\n",
    "            if ch == \"^\":\n",
    "                return (r, c, \"UP\")\n",
    "            elif ch == \"V\":\n",
    "                return (r, c, \"DOWN\")\n",
    "            elif ch == \"<\":\n",
    "                return (r, c, \"LEFT\")\n",
    "            elif ch == \">\":\n",
    "                return (r, c, \"RIGHT\")\n",
    "            c += 1\n",
    "        r += 1\n",
    "    assert False"
   ]
  },
  {
   "cell_type": "code",
   "execution_count": 11,
   "id": "34bfe1f0-fceb-401e-8e27-50be34dcddaa",
   "metadata": {},
   "outputs": [],
   "source": [
    "def move_one_step(lab_map):\n",
    "    \"\"\"\n",
    "    Return True if moving out of map\n",
    "    \"\"\"\n",
    "    map_width = len(lab_map[0])\n",
    "    map_height = len(lab_map)\n",
    "    (r, c, d) = find_guard(lab_map)\n",
    "    (new_r, new_c, new_d) = (r, c, d)\n",
    "    if d == \"UP\":\n",
    "        if r == 0:\n",
    "            lab_map[r][c] = \"X\"\n",
    "            return True\n",
    "        new_r = r - 1\n",
    "        if lab_map[new_r][new_c] == \"#\":\n",
    "            # ic(\"Block found in front of\", (r, c), \"move RIGHT\")\n",
    "            lab_map[r][c] = \">\"\n",
    "            new_d = \"RIGHT\"\n",
    "        else:\n",
    "            lab_map[r][c] = \"X\"\n",
    "            lab_map[new_r][new_c] = \"^\"\n",
    "    elif d == \"RIGHT\":\n",
    "        if c == map_width-1:\n",
    "            lab_map[r][c] = \"X\"\n",
    "            return True\n",
    "        new_c = c + 1\n",
    "        if lab_map[new_r][new_c] == \"#\":\n",
    "            # ic(\"Block found in front of\", (r, c), \"move DOWN\")\n",
    "            lab_map[r][c] = \"V\"\n",
    "            new_d = \"DOWN\"\n",
    "        else:\n",
    "            lab_map[r][c] = \"X\"\n",
    "            lab_map[new_r][new_c] = \">\"\n",
    "    elif d == \"DOWN\":\n",
    "        if r == map_height-1:\n",
    "            lab_map[r][c] = \"X\"\n",
    "            return True\n",
    "        new_r = r + 1\n",
    "        if lab_map[new_r][new_c] == \"#\":\n",
    "            # ic(\"Block found in front of\", (r, c), \"move LEFT\")\n",
    "            lab_map[r][c] = \"<\"\n",
    "            new_d = \"LEFT\"\n",
    "        else:\n",
    "            lab_map[r][c] = \"X\"\n",
    "            lab_map[new_r][new_c] = \"V\"\n",
    "    elif d == \"LEFT\":\n",
    "        if c == 0:\n",
    "            lab_map[r][c] = \"X\"\n",
    "            return True\n",
    "        new_c = c - 1\n",
    "        if lab_map[new_r][new_c] == \"#\":\n",
    "            # ic(\"Block found in front of\", (r, c), \"move UP\")\n",
    "            lab_map[r][c] = \"^\"\n",
    "            new_d = \"UP\"\n",
    "        else:\n",
    "            lab_map[r][c] = \"X\"\n",
    "            lab_map[new_r][new_c] = \"<\"\n",
    "\n",
    "    # ic(\"Moving from\", (r, c, d), \"to\", (new_r, new_c, new_d))\n",
    "    sanity_checks(lab_map)\n",
    "    return False"
   ]
  },
  {
   "cell_type": "code",
   "execution_count": 12,
   "id": "d2116e3e-1a3c-4173-9371-6ede3dbe62fa",
   "metadata": {},
   "outputs": [],
   "source": [
    "# ic(find_guard(lab_map))"
   ]
  },
  {
   "cell_type": "code",
   "execution_count": 13,
   "id": "97e0ec3c-528f-4982-a2a1-88a93a534dee",
   "metadata": {},
   "outputs": [],
   "source": [
    "# ic(lab_map)\n",
    "# move_one_step(lab_map)\n",
    "# ic(lab_map)"
   ]
  },
  {
   "cell_type": "markdown",
   "id": "07ef008f-6e16-4e5e-b375-95cd7ab62b69",
   "metadata": {},
   "source": [
    "## Part 1"
   ]
  },
  {
   "cell_type": "code",
   "execution_count": 14,
   "id": "f9727cab-508a-49a3-922e-dc76f46f97ff",
   "metadata": {},
   "outputs": [],
   "source": [
    "import copy\n",
    "\n",
    "# ic(input_map)\n",
    "traversed_map = copy.deepcopy(input_map)\n",
    "# ic(traversed_map)"
   ]
  },
  {
   "cell_type": "code",
   "execution_count": 15,
   "id": "b81767bf-570e-4cfb-873f-9cc1ac535658",
   "metadata": {},
   "outputs": [],
   "source": [
    "def solve_part1(lab_map):\n",
    "    while not move_one_step(lab_map):\n",
    "        # ic(\"ONE STEP FURTHER:\", count_element(\"X\"))\n",
    "        pass\n",
    "    return count_element(lab_map, \"X\")"
   ]
  },
  {
   "cell_type": "code",
   "execution_count": 16,
   "id": "8a366015-d692-4bf7-aa35-1f250d022cb2",
   "metadata": {},
   "outputs": [
    {
     "name": "stderr",
     "output_type": "stream",
     "text": [
      "ic| \"elapsed=\": 'elapsed='\n",
      "    tm_end - tm_begin: 12.0693519115448\n",
      "    \"result=\": 'result='\n",
      "    part1_result: 4977\n"
     ]
    },
    {
     "name": "stdout",
     "output_type": "stream",
     "text": [
      "Day 06 Part 1 RESULT:\n",
      "4977\n"
     ]
    }
   ],
   "source": [
    "tm_begin = time.time()\n",
    "part1_result = solve_part1(traversed_map)\n",
    "tm_end = time.time()\n",
    "ic(\"elapsed=\", tm_end - tm_begin, \"result=\", part1_result)\n",
    "print(\"Day 06 Part 1 RESULT:\")\n",
    "print(part1_result)"
   ]
  },
  {
   "cell_type": "code",
   "execution_count": 17,
   "id": "6334047b-05ca-488e-8f7a-92e795d3b434",
   "metadata": {},
   "outputs": [],
   "source": [
    "# _ = ic(input_map)"
   ]
  },
  {
   "cell_type": "code",
   "execution_count": 18,
   "id": "47464599-5809-494a-8b30-bd47e23f0068",
   "metadata": {},
   "outputs": [],
   "source": [
    "# _ = ic(traversed_map)"
   ]
  },
  {
   "cell_type": "markdown",
   "id": "fc439b96-c48d-482f-a0c9-a63572f7b7de",
   "metadata": {},
   "source": [
    "## Part 2"
   ]
  },
  {
   "cell_type": "code",
   "execution_count": 19,
   "id": "1b3623fc-371e-4826-808e-a03868bfc1e9",
   "metadata": {},
   "outputs": [],
   "source": [
    "# Sanity checks with test_data\n",
    "if use_test:\n",
    "    # ic(input_map)\n",
    "    num_x = count_element(input_map, \"X\")\n",
    "    assert num_x == 0, ic(num_x)\n",
    "    # ic(traversed_map)\n",
    "    num_x = count_element(traversed_map, \"X\")\n",
    "    assert num_x == 41, ic(num_x)"
   ]
  },
  {
   "cell_type": "code",
   "execution_count": 20,
   "id": "40e268ba-dd02-4197-ad83-fb66316f35a3",
   "metadata": {},
   "outputs": [],
   "source": [
    "def move_one_step_part2(lab_map):\n",
    "    \"\"\"\n",
    "    Return values:\n",
    "    \n",
    "    * 1 if moving out of map\n",
    "    * 2 if loop detected\n",
    "    * 0 in all other cases\n",
    "    \n",
    "    \"\"\"\n",
    "    result = 0\n",
    "\n",
    "    (r, c, d) = find_guard(lab_map)\n",
    "    # ic(r, c, d)\n",
    "    \n",
    "    (new_r, new_c, new_d) = (r, c, d)\n",
    "    if d == \"UP\":\n",
    "        new_r = r - 1\n",
    "        if r == 0:\n",
    "            # ic(\"Going up moves out of map\")\n",
    "            return 1\n",
    "        ch = lab_map[new_r][new_c]\n",
    "        if ch == \"+\":\n",
    "            ic(\"Loop detected\")\n",
    "            return 2\n",
    "        elif ch in [\"#\", \"O\"]:\n",
    "            # ic(\"Block\", ch, \"found in front of\", (r, c), \"==> move RIGHT\")\n",
    "            lab_map[r][c] = \"+\"\n",
    "            new_r, new_c = r, c + 1\n",
    "            lab_map[new_r][new_c] = \">\"\n",
    "            new_d = \"RIGHT\"\n",
    "        else:\n",
    "            lab_map[r][c] = \"|\"\n",
    "            lab_map[new_r][new_c] = \"^\"\n",
    "    elif d == \"RIGHT\":\n",
    "        new_c = c + 1\n",
    "        if c == map_width-1:\n",
    "            # ic(\"Going right moves out of map\")\n",
    "            return 1\n",
    "            new_d = \"DOWN\"\n",
    "        ch = lab_map[new_r][new_c]\n",
    "        if ch == \"+\":\n",
    "            ic(\"Loop detected\")\n",
    "            return 2\n",
    "        elif ch in [\"#\", \"O\"]:\n",
    "            # ic(\"Block\", ch, \"found in front of\", (r, c), \"==> move DOWN\")\n",
    "            lab_map[r][c] = \"+\"\n",
    "            new_r, new_c = r + 1, c\n",
    "            lab_map[new_r][new_c] = \"V\"\n",
    "        else:\n",
    "            lab_map[r][c] = \"-\"\n",
    "            lab_map[new_r][new_c] = \">\"\n",
    "    elif d == \"DOWN\":\n",
    "        new_r = r + 1\n",
    "        if r == map_height-1:\n",
    "            # ic(\"Going down moves out of map\")\n",
    "            return 1\n",
    "        ch = lab_map[new_r][new_c]\n",
    "        if ch == \"+\":\n",
    "            ic(\"Loop detected\")\n",
    "            return 2\n",
    "        elif ch in [\"#\", \"O\"]:\n",
    "            # ic(\"Block\", ch, \"found in front of\", (r, c), \"==> move LEFT\")\n",
    "            lab_map[r][c] = \"+\"\n",
    "            new_r, new_c = r, c - 1\n",
    "            lab_map[new_r][new_c] = \"<\"\n",
    "            new_d = \"LEFT\"\n",
    "        else:\n",
    "            lab_map[r][c] = \"|\"\n",
    "            lab_map[new_r][new_c] = \"V\"\n",
    "    elif d == \"LEFT\":\n",
    "        new_c = c - 1\n",
    "        if c == 0:\n",
    "            # ic(\"Going left moves out of map\")\n",
    "            return 1\n",
    "        ch = lab_map[new_r][new_c]\n",
    "        if ch == \"+\":\n",
    "            ic(\"Loop detected\")\n",
    "            return 2\n",
    "        elif ch in [\"#\", \"O\"]:\n",
    "            # ic(\"Block\", ch, \"found in front of\", (r, c), \"==> move UP\")\n",
    "            lab_map[r][c] = \"+\"\n",
    "            new_r, new_c = r - 1, c\n",
    "            lab_map[new_r][new_c] = \"^\"\n",
    "            new_d = \"UP\"\n",
    "        else:\n",
    "            lab_map[r][c] = \"-\"\n",
    "            lab_map[new_r][new_c] = \"<\"\n",
    "    else:\n",
    "        assert False, ic(\"This should never happen\", r, c, lab_map)\n",
    "    \n",
    "    ...\n",
    "\n",
    "    sanity_checks(lab_map)\n",
    "    \n",
    "    return result"
   ]
  },
  {
   "cell_type": "code",
   "execution_count": 21,
   "id": "3e8516ff-60a9-4194-aae7-13c7a06cf61b",
   "metadata": {},
   "outputs": [],
   "source": [
    "def is_looping_obstruction(lab_map, r:int, c:int) -> bool:\n",
    "    # result = False\n",
    "\n",
    "    # ic(\"DEBUG: Check loop with obstruction at\", (r,c))\n",
    "\n",
    "    assert r >= 0 and r < len(lab_map), ic(r)\n",
    "    assert c >= 0 and c < len(lab_map[0]), ic(c)\n",
    "\n",
    "    traversed_map = copy.deepcopy(input_map)\n",
    "\n",
    "    ch = traversed_map[r][c]\n",
    "    if not ch == \".\":\n",
    "        # ic(\"lab_map at\", (r,c), \"has\", ch)\n",
    "        return False\n",
    "        \n",
    "    traversed_map[r][c] = \"O\"\n",
    "    # ic(traversed_map)\n",
    "\n",
    "    res = 0\n",
    "    step = 0\n",
    "    while res == 0:\n",
    "        res = move_one_step_part2(traversed_map)\n",
    "        step += 1\n",
    "        if step % 1000 == 0:\n",
    "            ic(r, c, step)\n",
    "\n",
    "    return res == 2"
   ]
  },
  {
   "cell_type": "code",
   "execution_count": 22,
   "id": "2a5e5327-5384-411c-ac61-d5a79960903a",
   "metadata": {},
   "outputs": [],
   "source": [
    "# Now check obstructions against test_data\n",
    "\n",
    "# ic(is_looping_obstruction(input_map, 6, 1)) # No loop\n",
    "#\n",
    "# ic(is_looping_obstruction(input_map, 6, 3)) # Option 1\n",
    "# ic(is_looping_obstruction(input_map, 7, 6)) # Option 2\n",
    "# ic(is_looping_obstruction(input_map, 7, 7)) # Option 3\n",
    "# ic(is_looping_obstruction(input_map, 8, 1)) # Option 4\n",
    "# ic(is_looping_obstruction(input_map, 8, 3)) # Option 5\n",
    "# ic(is_looping_obstruction(input_map, 9, 7)) # Option 6"
   ]
  },
  {
   "cell_type": "code",
   "execution_count": 23,
   "id": "a88a7216-7103-4b70-a0c5-43d760ee9e75",
   "metadata": {},
   "outputs": [],
   "source": [
    "def solve_part2(lab_map: list) -> int:\n",
    "    result = 0\n",
    "\n",
    "    # TODO\n",
    "\n",
    "    for r in range(len(lab_map)):\n",
    "        ic(\"solve_part2: Checking row\", r)\n",
    "        for c in range(len(lab_map[0])):\n",
    "            # ic(\"Calling is_looping_obstruction(...,\", r, c, \")\")\n",
    "            res = is_looping_obstruction(lab_map, r, c)\n",
    "            if res:\n",
    "                result += 1\n",
    "                ic(result)\n",
    "\n",
    "    ...\n",
    "    \n",
    "    return result"
   ]
  },
  {
   "cell_type": "code",
   "execution_count": null,
   "id": "ea030ceb-065e-43c2-bfad-c91bb7967522",
   "metadata": {},
   "outputs": [
    {
     "name": "stderr",
     "output_type": "stream",
     "text": [
      "ic| 'solve_part2: Checking row', r: 0\n",
      "ic| r: 0, c: 0, step: 1000\n",
      "ic| r: 0, c: 0, step: 2000\n",
      "ic| r: 0, c: 0, step: 3000\n",
      "ic| r: 0, c: 0, step: 4000\n",
      "ic| r: 0, c: 0, step: 5000\n",
      "ic| r: 0, c: 1, step: 1000\n",
      "ic| r: 0, c: 1, step: 2000\n",
      "ic| r: 0, c: 1, step: 3000\n",
      "ic| r: 0, c: 1, step: 4000\n",
      "ic| r: 0, c: 1, step: 5000\n",
      "ic| r: 0, c: 2, step: 1000\n",
      "ic| r: 0, c: 2, step: 2000\n",
      "ic| r: 0, c: 2, step: 3000\n",
      "ic| r: 0, c: 2, step: 4000\n",
      "ic| r: 0, c: 2, step: 5000\n",
      "ic| r: 0, c: 3, step: 1000\n",
      "ic| r: 0, c: 3, step: 2000\n",
      "ic| r: 0, c: 3, step: 3000\n",
      "ic| r: 0, c: 3, step: 4000\n",
      "ic| r: 0, c: 3, step: 5000\n",
      "ic| r: 0, c: 4, step: 1000\n",
      "ic| r: 0, c: 4, step: 2000\n",
      "ic| r: 0, c: 4, step: 3000\n",
      "ic| r: 0, c: 4, step: 4000\n",
      "ic| r: 0, c: 4, step: 5000\n",
      "ic| r: 0, c: 5, step: 1000\n",
      "ic| r: 0, c: 5, step: 2000\n",
      "ic| r: 0, c: 5, step: 3000\n",
      "ic| r: 0, c: 5, step: 4000\n",
      "ic| r: 0, c: 5, step: 5000\n",
      "ic| r: 0, c: 6, step: 1000\n",
      "ic| r: 0, c: 6, step: 2000\n",
      "ic| r: 0, c: 6, step: 3000\n",
      "ic| r: 0, c: 6, step: 4000\n",
      "ic| r: 0, c: 6, step: 5000\n",
      "ic| r: 0, c: 7, step: 1000\n",
      "ic| r: 0, c: 7, step: 2000\n",
      "ic| r: 0, c: 7, step: 3000\n",
      "ic| r: 0, c: 7, step: 4000\n",
      "ic| r: 0, c: 7, step: 5000\n"
     ]
    }
   ],
   "source": [
    "tm_begin = time.time()\n",
    "part2_result = solve_part2(input_map)\n",
    "tm_end = time.time()\n",
    "ic(\"elapsed=\", tm_end - tm_begin, \"result=\", part2_result)\n",
    "print(\"Day 06 Part 2 RESULT:\")\n",
    "print(part2_result)"
   ]
  },
  {
   "cell_type": "code",
   "execution_count": null,
   "id": "c757b576-5739-447a-9ea9-60419a57ef1a",
   "metadata": {},
   "outputs": [],
   "source": [
    "part2_result"
   ]
  },
  {
   "cell_type": "code",
   "execution_count": null,
   "id": "276634a5-7a73-443f-95de-faeb114570d9",
   "metadata": {
    "collapsed": true,
    "jupyter": {
     "outputs_hidden": true
    }
   },
   "outputs": [],
   "source": []
  }
 ],
 "metadata": {
  "kernelspec": {
   "display_name": "Python 3 (ipykernel)",
   "language": "python",
   "name": "python3"
  },
  "language_info": {
   "codemirror_mode": {
    "name": "ipython",
    "version": 3
   },
   "file_extension": ".py",
   "mimetype": "text/x-python",
   "name": "python",
   "nbconvert_exporter": "python",
   "pygments_lexer": "ipython3",
   "version": "3.11.10"
  }
 },
 "nbformat": 4,
 "nbformat_minor": 5
}
