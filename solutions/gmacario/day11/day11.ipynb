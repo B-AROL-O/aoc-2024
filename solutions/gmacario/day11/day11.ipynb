{
 "cells": [
  {
   "cell_type": "markdown",
   "id": "e8c36490-ac44-4e4f-9fc3-97d15fbef673",
   "metadata": {},
   "source": [
    "# AoC 2024 - Day 11\n",
    "\n",
    "<https://adventofcode.com/2024/day/11>"
   ]
  },
  {
   "cell_type": "markdown",
   "id": "577a1d89",
   "metadata": {},
   "source": []
  },
  {
   "cell_type": "code",
   "execution_count": 1,
   "id": "6b7c6dc6-b77c-47e0-ac97-33f7f86c484c",
   "metadata": {},
   "outputs": [],
   "source": [
    "# Parameters\n",
    "# \n",
    "day = 11\n",
    "\n",
    "FILENAME = \"day11_test1.txt\"\n",
    "#\n",
    "FILENAME = \"day11_input_gmacario.txt\""
   ]
  },
  {
   "cell_type": "code",
   "execution_count": 2,
   "id": "6c8149a1-7aed-4bfb-8ec9-748c65077d45",
   "metadata": {},
   "outputs": [],
   "source": [
    "# Import\n",
    "from icecream import ic\n",
    "import time"
   ]
  },
  {
   "cell_type": "markdown",
   "id": "f3458754-aa32-44e5-b229-4f519108459e",
   "metadata": {},
   "source": [
    "## Part 1"
   ]
  },
  {
   "cell_type": "code",
   "execution_count": 3,
   "id": "b8ac6332-ebd1-424b-a781-df1771e81be8",
   "metadata": {},
   "outputs": [
    {
     "name": "stderr",
     "output_type": "stream",
     "text": [
      "ic| time.ctime(): 'Sat Dec 14 20:24:53 2024'\n",
      "ic| time.ctime(tm_begin): 'Sat Dec 14 20:24:54 2024'\n"
     ]
    },
    {
     "data": {
      "text/plain": [
       "'Sat Dec 14 20:24:54 2024'"
      ]
     },
     "execution_count": 3,
     "metadata": {},
     "output_type": "execute_result"
    }
   ],
   "source": [
    "# Read the puzzle input into a list of strings, one per line\n",
    "#\n",
    "with open(FILENAME, 'r') as file:\n",
    "    input_lines = [line.rstrip() for line in file]\n",
    "\n",
    "ic(time.ctime())\n",
    "\n",
    "tm_begin = time.time()\n",
    "ic(time.ctime(tm_begin))"
   ]
  },
  {
   "cell_type": "code",
   "execution_count": 4,
   "id": "c8acbc8f-642f-4c0b-83df-c0e8418c88d1",
   "metadata": {},
   "outputs": [
    {
     "name": "stderr",
     "output_type": "stream",
     "text": [
      "ic| input_lines: ['0 37551 469 63 1 791606 2065 9983586']\n",
      "ic| input_stones: [0, 37551, 469, 63, 1, 791606, 2065, 9983586]\n"
     ]
    }
   ],
   "source": [
    "_ = ic(input_lines)\n",
    "\n",
    "input_stones = [int(field) for field in input_lines[0].split(\" \")]\n",
    "\n",
    "_ = ic(input_stones)"
   ]
  },
  {
   "cell_type": "code",
   "execution_count": 5,
   "id": "ddd53e63",
   "metadata": {},
   "outputs": [],
   "source": [
    "def blink(stones:list) -> list:\n",
    "    result = []\n",
    "    for stone in stones:\n",
    "        s_str = str(stone)\n",
    "        n_digit = len(s_str)\n",
    "        if stone == 0:\n",
    "            result.append(1)\n",
    "        elif n_digit % 2 == 0:\n",
    "            result.append(int(s_str[:n_digit // 2]))\n",
    "            result.append(int(s_str[n_digit // 2:]))\n",
    "        else:\n",
    "            result.append(2024 * stone)\n",
    "    return result"
   ]
  },
  {
   "cell_type": "code",
   "execution_count": 6,
   "id": "7f5c0c45",
   "metadata": {},
   "outputs": [],
   "source": [
    "# stones = input_stones\n",
    "# _ = ic(stones)\n",
    "\n",
    "# stones = blink(stones)\n",
    "# _ = ic(stones)\n",
    "\n",
    "# stones = blink(stones)\n",
    "# _ = ic(stones)\n",
    "\n",
    "# stones = blink(stones)\n",
    "# _ = ic(stones)\n",
    "\n",
    "# stones = blink(stones)\n",
    "# _ = ic(stones)\n",
    "\n",
    "# stones = blink(stones)\n",
    "# _ = ic(stones)"
   ]
  },
  {
   "cell_type": "code",
   "execution_count": 7,
   "id": "793a08d6-09b2-45be-86a8-96b2a41891e3",
   "metadata": {},
   "outputs": [
    {
     "name": "stderr",
     "output_type": "stream",
     "text": [
      "ic| n: 0, len(stones): 11\n",
      "ic| n: 1, len(stones): 16\n",
      "ic| n: 2, len(stones): "
     ]
    },
    {
     "name": "stderr",
     "output_type": "stream",
     "text": [
      "23\n",
      "ic| n: 3, len(stones): 35\n",
      "ic| n: 4, len(stones): 47\n",
      "ic| n: 5, len(stones): 78\n",
      "ic| n: 6, len(stones): 123\n",
      "ic| n: 7, len(stones): 173\n",
      "ic| n: 8, len(stones): 261\n",
      "ic| n: 9, len(stones): 394\n",
      "ic| n: 10, len(stones): 604\n",
      "ic| n: 11, len(stones): 877\n",
      "ic| n: 12, len(stones): 1330\n",
      "ic| n: 13, len(stones): 2134\n",
      "ic| n: 14, len(stones): 3129\n",
      "ic| n: 15, len(stones): 4593\n",
      "ic| n: 16, len(stones): 7243\n",
      "ic| n: 17, len(stones): 10966\n",
      "ic| n: 18, len(stones): 16469\n",
      "ic| n: 19, len(stones): 24973\n",
      "ic| n: 20, len(stones): 37948\n",
      "ic| n: 21, len(stones): 58245\n",
      "ic| n: 22, len(stones): 87294\n",
      "ic| n: 23, len(stones): 133331\n",
      "ic| n: 24, len(stones): 204022\n",
      "ic| \"elapsed=\": 'elapsed='\n",
      "    tm_end - tm_begin: 0.7288703918457031\n",
      "    \"result=\": 'result='\n",
      "    part1_result: 204022\n"
     ]
    },
    {
     "name": "stdout",
     "output_type": "stream",
     "text": [
      "Day 11 Part 1 RESULT:\n",
      "204022\n"
     ]
    }
   ],
   "source": [
    "def solve_part1():\n",
    "    stones = input_stones\n",
    "    # _ = ic(stones)\n",
    "\n",
    "    for n in range(25):\n",
    "        stones = blink(stones)\n",
    "        # _  = ic(stones)\n",
    "        ic(n, len(stones))\n",
    "    \n",
    "    return len(stones)\n",
    "\n",
    "# tm_begin = time.time()\n",
    "part1_result = solve_part1()\n",
    "tm_end = time.time()\n",
    "ic(\"elapsed=\", tm_end - tm_begin, \"result=\", part1_result)\n",
    "print(f\"Day {day} Part 1 RESULT:\")\n",
    "print(part1_result)"
   ]
  },
  {
   "cell_type": "markdown",
   "id": "fc439b96-c48d-482f-a0c9-a63572f7b7de",
   "metadata": {},
   "source": [
    "## Part 2"
   ]
  },
  {
   "cell_type": "code",
   "execution_count": null,
   "id": "51de10dc-4093-4fce-bd21-50ef40cdf1dd",
   "metadata": {},
   "outputs": [
    {
     "name": "stderr",
     "output_type": "stream",
     "text": [
      "ic| n: 0, len(stones): 11\n",
      "ic| n: 1, len(stones): 16\n",
      "ic| n: 2, len(stones): 23\n",
      "ic| n: 3, len(stones): 35\n",
      "ic| n: 4, len(stones): 47\n",
      "ic| n: 5, len(stones): 78\n",
      "ic| n: 6, len(stones): 123\n",
      "ic| n: 7, len(stones): 173\n",
      "ic| n: 8, len(stones): 261\n",
      "ic| n: 9, len(stones): 394\n",
      "ic| n: 10, len(stones): 604\n",
      "ic| n: 11, len(stones): 877\n",
      "ic| n: 12, len(stones): 1330\n",
      "ic| n: 13, len(stones): 2134\n",
      "ic| n: 14, len(stones): 3129\n",
      "ic| n: 15, len(stones): 4593\n",
      "ic| n: 16, len(stones): 7243\n",
      "ic| n: 17, len(stones): 10966\n",
      "ic| n: 18, len(stones): 16469\n",
      "ic| n: 19, len(stones): 24973\n",
      "ic| n: 20, len(stones): 37948\n",
      "ic| n: 21, len(stones): 58245\n",
      "ic| n: 22, len(stones): 87294\n",
      "ic| n: 23, len(stones): 133331\n",
      "ic| n: 24, len(stones): 204022\n",
      "ic| n: 25, len(stones): 305725\n",
      "ic| n: 26, len(stones): 467210\n",
      "ic| n: 27, len(stones): 710893\n",
      "ic| n: 28, len(stones): 1077867\n",
      "ic| n: 29, len(stones): 1639198\n",
      "ic| n: 30, len(stones): 2478021\n",
      "ic| n: 31, len(stones): 3785340\n",
      "ic| n: 32, len(stones): 5744135\n",
      "ic| n: 33, len(stones): 8690628\n",
      "ic| n: 34, len(stones): 13262477\n",
      "ic| n: 35, len(stones): 20093612\n",
      "ic| n: 36, len(stones): 30523501\n",
      "ic| n: 37, len(stones): 46418605\n",
      "ic| n: 38, len(stones): 70383053\n",
      "ic| n: 39, len(stones): 107140672\n"
     ]
    }
   ],
   "source": [
    "def solve_part2():\n",
    "    stones = input_stones\n",
    "    # _ = ic(stones)\n",
    "\n",
    "    for n in range(75):\n",
    "        stones = blink(stones)\n",
    "        # _  = ic(stones)\n",
    "        ic(n, len(stones))\n",
    "    \n",
    "    return len(stones)\n",
    "\n",
    "# tm_begin = time.time()\n",
    "part2_result = solve_part2()\n",
    "tm_end = time.time()\n",
    "ic(\"elapsed=\", tm_end - tm_begin, \"result=\", part2_result)\n",
    "print(f\"Day {day} Part 2 RESULT:\")\n",
    "print(part2_result)"
   ]
  }
 ],
 "metadata": {
  "kernelspec": {
   "display_name": "aoc-2024-Uq7HKp2W-py3.12",
   "language": "python",
   "name": "python3"
  },
  "language_info": {
   "codemirror_mode": {
    "name": "ipython",
    "version": 3
   },
   "file_extension": ".py",
   "mimetype": "text/x-python",
   "name": "python",
   "nbconvert_exporter": "python",
   "pygments_lexer": "ipython3",
   "version": "3.12.3"
  }
 },
 "nbformat": 4,
 "nbformat_minor": 5
}
