{
 "cells": [
  {
   "cell_type": "markdown",
   "id": "e8c36490-ac44-4e4f-9fc3-97d15fbef673",
   "metadata": {},
   "source": [
    "# AoC 2024 - Day 11\n",
    "\n",
    "<https://adventofcode.com/2024/day/11>"
   ]
  },
  {
   "cell_type": "markdown",
   "id": "577a1d89",
   "metadata": {},
   "source": []
  },
  {
   "cell_type": "code",
   "execution_count": 1,
   "id": "6b7c6dc6-b77c-47e0-ac97-33f7f86c484c",
   "metadata": {},
   "outputs": [],
   "source": [
    "# Parameters\n",
    "# \n",
    "day = 11\n",
    "\n",
    "FILENAME = \"day11_test1.txt\"\n",
    "#\n",
    "FILENAME = \"day11_input_gmacario.txt\""
   ]
  },
  {
   "cell_type": "code",
   "execution_count": 2,
   "id": "6c8149a1-7aed-4bfb-8ec9-748c65077d45",
   "metadata": {},
   "outputs": [],
   "source": [
    "# Import\n",
    "from icecream import ic\n",
    "import time"
   ]
  },
  {
   "cell_type": "markdown",
   "id": "f3458754-aa32-44e5-b229-4f519108459e",
   "metadata": {},
   "source": [
    "## Part 1"
   ]
  },
  {
   "cell_type": "code",
   "execution_count": 3,
   "id": "b8ac6332-ebd1-424b-a781-df1771e81be8",
   "metadata": {},
   "outputs": [
    {
     "name": "stderr",
     "output_type": "stream",
     "text": [
      "ic| time.ctime(): 'Sat Dec 14 21:20:03 2024'\n",
      "ic| time.ctime(tm_begin): 'Sat Dec 14 21:20:03 2024'\n"
     ]
    },
    {
     "data": {
      "text/plain": [
       "'Sat Dec 14 21:20:03 2024'"
      ]
     },
     "execution_count": 3,
     "metadata": {},
     "output_type": "execute_result"
    }
   ],
   "source": [
    "# Read the puzzle input into a list of strings, one per line\n",
    "#\n",
    "with open(FILENAME, 'r') as file:\n",
    "    input_lines = [line.rstrip() for line in file]\n",
    "\n",
    "ic(time.ctime())\n",
    "\n",
    "tm_begin = time.time()\n",
    "ic(time.ctime(tm_begin))"
   ]
  },
  {
   "cell_type": "code",
   "execution_count": 4,
   "id": "c8acbc8f-642f-4c0b-83df-c0e8418c88d1",
   "metadata": {},
   "outputs": [
    {
     "name": "stderr",
     "output_type": "stream",
     "text": [
      "ic| input_lines: ['0 37551 469 63 1 791606 2065 9983586']\n",
      "ic| input_stones: [0, 37551, 469, 63, 1, 791606, 2065, 9983586]\n"
     ]
    }
   ],
   "source": [
    "_ = ic(input_lines)\n",
    "\n",
    "input_stones = [int(field) for field in input_lines[0].split(\" \")]\n",
    "\n",
    "_ = ic(input_stones)"
   ]
  },
  {
   "cell_type": "code",
   "execution_count": 5,
   "id": "ddd53e63",
   "metadata": {},
   "outputs": [],
   "source": [
    "def blink(stones:list) -> list:\n",
    "    result = []\n",
    "    for stone in stones:\n",
    "        s_str = str(stone)\n",
    "        n_digit = len(s_str)\n",
    "        if stone == 0:\n",
    "            result.append(1)\n",
    "        elif n_digit % 2 == 0:\n",
    "            result.append(int(s_str[:n_digit // 2]))\n",
    "            result.append(int(s_str[n_digit // 2:]))\n",
    "        else:\n",
    "            result.append(2024 * stone)\n",
    "    return result"
   ]
  },
  {
   "cell_type": "code",
   "execution_count": 6,
   "id": "7f5c0c45",
   "metadata": {},
   "outputs": [],
   "source": [
    "# stones = input_stones\n",
    "# _ = ic(stones)\n",
    "\n",
    "# stones = blink(stones)\n",
    "# _ = ic(stones)\n",
    "\n",
    "# stones = blink(stones)\n",
    "# _ = ic(stones)\n",
    "\n",
    "# stones = blink(stones)\n",
    "# _ = ic(stones)\n",
    "\n",
    "# stones = blink(stones)\n",
    "# _ = ic(stones)\n",
    "\n",
    "# stones = blink(stones)\n",
    "# _ = ic(stones)"
   ]
  },
  {
   "cell_type": "code",
   "execution_count": 7,
   "id": "793a08d6-09b2-45be-86a8-96b2a41891e3",
   "metadata": {},
   "outputs": [
    {
     "name": "stderr",
     "output_type": "stream",
     "text": [
      "ic| n: 0, len(stones): 11\n",
      "ic| n: 1, len(stones): 16\n",
      "ic| n: 2, len(stones): 23\n",
      "ic| n: 3, len(stones): 35\n",
      "ic| n: 4, len(stones): 47\n",
      "ic| n: 5, len(stones): 78\n",
      "ic| n: 6, len(stones): 123\n",
      "ic| n: 7, len(stones): 173\n",
      "ic| n: 8, len(stones): 261\n",
      "ic| n: 9, len(stones): 394\n",
      "ic| n: 10, len(stones): 604\n",
      "ic| n: 11, len(stones): 877\n",
      "ic| n: 12, len(stones): 1330\n",
      "ic| n: 13, len(stones): 2134\n",
      "ic| n: 14, len(stones): 3129\n",
      "ic| n: 15, len(stones): 4593\n",
      "ic| n: 16, len(stones): 7243\n",
      "ic| n: 17, len(stones): 10966\n",
      "ic| n: 18, len(stones): 16469\n",
      "ic| n: 19, len(stones): 24973\n",
      "ic| n: 20, len(stones): 37948\n",
      "ic| n: 21, len(stones): 58245\n",
      "ic| n: 22, len(stones): 87294\n",
      "ic| n: 23, len(stones): 133331\n",
      "ic| n: 24, len(stones): 204022\n",
      "ic| \"elapsed=\": 'elapsed='\n",
      "    tm_end - tm_begin: 0.665665864944458\n",
      "    \"result=\": 'result='\n",
      "    part1_result: 204022\n"
     ]
    },
    {
     "name": "stdout",
     "output_type": "stream",
     "text": [
      "Day 11 Part 1 RESULT:\n",
      "204022\n"
     ]
    }
   ],
   "source": [
    "def solve_part1():\n",
    "    stones = input_stones\n",
    "    # _ = ic(stones)\n",
    "\n",
    "    for n in range(25):\n",
    "        stones = blink(stones)\n",
    "        # _  = ic(stones)\n",
    "        ic(n, len(stones))\n",
    "    \n",
    "    return len(stones)\n",
    "\n",
    "# tm_begin = time.time()\n",
    "part1_result = solve_part1()\n",
    "tm_end = time.time()\n",
    "ic(\"elapsed=\", tm_end - tm_begin, \"result=\", part1_result)\n",
    "print(f\"Day {day} Part 1 RESULT:\")\n",
    "print(part1_result)"
   ]
  },
  {
   "cell_type": "markdown",
   "id": "fc439b96-c48d-482f-a0c9-a63572f7b7de",
   "metadata": {},
   "source": [
    "## Part 2"
   ]
  },
  {
   "cell_type": "code",
   "execution_count": 8,
   "id": "24809d21",
   "metadata": {},
   "outputs": [],
   "source": [
    "import copy\n",
    "\n",
    "def blink2(stones:dict) -> dict:\n",
    "    result = dict()\n",
    "    for stone in stones.keys():\n",
    "        s_str = str(stone)\n",
    "        n_values = stones[stone]\n",
    "        n_digit = len(s_str)\n",
    "        # ic(s_str, n_values, n_digit)\n",
    "        if stone == 0:\n",
    "            result[1] = result.pop(1, 0) + n_values\n",
    "        elif n_digit % 2 == 0:\n",
    "            num1 = int(s_str[:n_digit // 2])\n",
    "            num2 = int(s_str[n_digit // 2:])\n",
    "            result[num1] = result.pop(num1, 0) + n_values\n",
    "            result[num2] = result.pop(num2, 0) + n_values\n",
    "        else:\n",
    "            num2 = 2024 * stone\n",
    "            result[num2] = result.pop(num2, 0) + n_values\n",
    "    return result"
   ]
  },
  {
   "cell_type": "code",
   "execution_count": 9,
   "id": "75071cd0",
   "metadata": {},
   "outputs": [
    {
     "name": "stderr",
     "output_type": "stream",
     "text": [
      "ic| stones_dict: {0: 1, 1: 1, 63: 1, 469: 1, 2065: 1, 37551: 1, 791606: 1, 9983586: 1}\n"
     ]
    },
    {
     "data": {
      "text/plain": [
       "{0: 1, 37551: 1, 469: 1, 63: 1, 1: 1, 791606: 1, 2065: 1, 9983586: 1}"
      ]
     },
     "execution_count": 9,
     "metadata": {},
     "output_type": "execute_result"
    }
   ],
   "source": [
    "stones_dict = dict()\n",
    "\n",
    "for s in input_stones:\n",
    "    if s not in stones_dict:\n",
    "        stones_dict[s] = 1\n",
    "    else:\n",
    "        stones_dict[s] += 1\n",
    "\n",
    "ic(stones_dict)"
   ]
  },
  {
   "cell_type": "code",
   "execution_count": 10,
   "id": "710637f8",
   "metadata": {},
   "outputs": [],
   "source": [
    "# stones = stones_dict\n",
    "# _ = ic(stones)\n",
    "\n",
    "# stones = blink2(stones)\n",
    "# _ = ic(stones)\n",
    "\n",
    "# stones = blink2(stones)\n",
    "# _ = ic(stones)\n",
    "\n",
    "# stones = blink2(stones)\n",
    "# _ = ic(stones)\n",
    "\n",
    "# stones = blink2(stones)\n",
    "# _ = ic(stones)\n",
    "\n",
    "# stones = blink2(stones)\n",
    "# _ = ic(stones)"
   ]
  },
  {
   "cell_type": "code",
   "execution_count": 11,
   "id": "51de10dc-4093-4fce-bd21-50ef40cdf1dd",
   "metadata": {},
   "outputs": [
    {
     "name": "stderr",
     "output_type": "stream",
     "text": [
      "ic| stones: {0: 1, 1: 1, 63: 1, 469: 1, 2065: 1, 37551: 1, 791606: 1, 9983586: 1}\n",
      "ic| \"elapsed=\": 'elapsed='\n",
      "    tm_end - tm_begin: 0.911374568939209\n",
      "    \"result=\": 'result='\n",
      "    part2_result: 241651071960597\n"
     ]
    },
    {
     "name": "stdout",
     "output_type": "stream",
     "text": [
      "Day 11 Part 2 RESULT:\n",
      "241651071960597\n"
     ]
    }
   ],
   "source": [
    "def solve_part2():\n",
    "    stones = stones_dict\n",
    "    _ = ic(stones)\n",
    "\n",
    "    for n in range(75):\n",
    "        stones = blink2(stones)\n",
    "        # _ = ic(n)\n",
    "        # _  = ic(stones)\n",
    "    \n",
    "    # _ = ic(stones)\n",
    "\n",
    "    result = 0\n",
    "    for k,v in stones.items():\n",
    "        result += v\n",
    "\n",
    "    return result\n",
    "\n",
    "# tm_begin = time.time()\n",
    "part2_result = solve_part2()\n",
    "tm_end = time.time()\n",
    "ic(\"elapsed=\", tm_end - tm_begin, \"result=\", part2_result)\n",
    "print(f\"Day {day} Part 2 RESULT:\")\n",
    "print(part2_result)"
   ]
  }
 ],
 "metadata": {
  "kernelspec": {
   "display_name": "aoc-2024-Uq7HKp2W-py3.12",
   "language": "python",
   "name": "python3"
  },
  "language_info": {
   "codemirror_mode": {
    "name": "ipython",
    "version": 3
   },
   "file_extension": ".py",
   "mimetype": "text/x-python",
   "name": "python",
   "nbconvert_exporter": "python",
   "pygments_lexer": "ipython3",
   "version": "3.12.3"
  }
 },
 "nbformat": 4,
 "nbformat_minor": 5
}
