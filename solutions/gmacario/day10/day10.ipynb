{
 "cells": [
  {
   "cell_type": "markdown",
   "id": "e8c36490-ac44-4e4f-9fc3-97d15fbef673",
   "metadata": {},
   "source": [
    "# AoC 2024 - Day 10\n",
    "\n",
    "<https://adventofcode.com/2024/day/10>"
   ]
  },
  {
   "cell_type": "code",
   "execution_count": 11,
   "id": "6b7c6dc6-b77c-47e0-ac97-33f7f86c484c",
   "metadata": {},
   "outputs": [],
   "source": [
    "from icecream import ic\n",
    "import time"
   ]
  },
  {
   "cell_type": "code",
   "execution_count": 12,
   "id": "6c8149a1-7aed-4bfb-8ec9-748c65077d45",
   "metadata": {},
   "outputs": [],
   "source": [
    "use_test = True  # Comment out for using actual puzzle input"
   ]
  },
  {
   "cell_type": "markdown",
   "id": "f3458754-aa32-44e5-b229-4f519108459e",
   "metadata": {},
   "source": [
    "## TODO: Part 1"
   ]
  },
  {
   "cell_type": "code",
   "execution_count": 13,
   "id": "b8ac6332-ebd1-424b-a781-df1771e81be8",
   "metadata": {},
   "outputs": [],
   "source": [
    "test_data1 = \"\"\"12345\n",
    "\"\"\"\n",
    "\n",
    "test_data2 = \"\"\"2333133121414131402\n",
    "\"\"\"\n",
    "\n",
    "try:\n",
    "    use_test\n",
    "except NameError:\n",
    "    use_test = False\n",
    "    ic(\"use_test was undefined - forcing to\", use_test)\n",
    "    \n",
    "if use_test:\n",
    "    assert test_data1 != None\n",
    "    assert test_data2 != None"
   ]
  },
  {
   "cell_type": "code",
   "execution_count": 14,
   "id": "6ac2a9c0-ef2f-496b-acd2-f8b47c89860b",
   "metadata": {},
   "outputs": [
    {
     "name": "stderr",
     "output_type": "stream",
     "text": [
      "ic| time.ctime(): 'Sat Dec 14 14:24:17 2024'\n",
      "ic| input_lines: ['2333133121414131402']\n"
     ]
    }
   ],
   "source": [
    "# Read the puzzle input into a list of strings, one per line\n",
    "#\n",
    "if use_test:\n",
    "    input_lines = test_data2.splitlines()\n",
    "else:\n",
    "    with open(\"input_day09_gmacario.txt\", 'r') as file:\n",
    "        input_lines = [line.rstrip() for line in file]\n",
    "\n",
    "ic(time.ctime())\n",
    "if use_test:\n",
    "    ic(input_lines)"
   ]
  },
  {
   "cell_type": "code",
   "execution_count": 15,
   "id": "c8acbc8f-642f-4c0b-83df-c0e8418c88d1",
   "metadata": {},
   "outputs": [],
   "source": [
    "# input_lines"
   ]
  },
  {
   "cell_type": "code",
   "execution_count": 16,
   "id": "0eac7bf8-becc-40de-a3d2-f81ca298b2e5",
   "metadata": {},
   "outputs": [],
   "source": [
    "# TODO"
   ]
  },
  {
   "cell_type": "code",
   "execution_count": 17,
   "id": "793a08d6-09b2-45be-86a8-96b2a41891e3",
   "metadata": {},
   "outputs": [
    {
     "name": "stderr",
     "output_type": "stream",
     "text": [
      "ic| \"elapsed=\": 'elapsed='\n",
      "    tm_end - tm_begin: 0.00010228157043457031\n",
      "    \"result=\": 'result='\n",
      "    part1_result: False\n"
     ]
    },
    {
     "name": "stdout",
     "output_type": "stream",
     "text": [
      "Day 10 Part 1 RESULT:\n",
      "False\n"
     ]
    }
   ],
   "source": [
    "def solve_part1():\n",
    "    result = False\n",
    "    return result\n",
    "\n",
    "tm_begin = time.time()\n",
    "part1_result = solve_part1()\n",
    "tm_end = time.time()\n",
    "ic(\"elapsed=\", tm_end - tm_begin, \"result=\", part1_result)\n",
    "print(\"Day 10 Part 1 RESULT:\")\n",
    "print(part1_result)"
   ]
  },
  {
   "cell_type": "markdown",
   "id": "fc439b96-c48d-482f-a0c9-a63572f7b7de",
   "metadata": {},
   "source": [
    "## TODO: Part 2"
   ]
  },
  {
   "cell_type": "code",
   "execution_count": 18,
   "id": "8555a6fb-c520-46f9-b6da-46cdc09b0ee7",
   "metadata": {},
   "outputs": [],
   "source": [
    "# TODO"
   ]
  },
  {
   "cell_type": "code",
   "execution_count": 19,
   "id": "51de10dc-4093-4fce-bd21-50ef40cdf1dd",
   "metadata": {},
   "outputs": [
    {
     "name": "stderr",
     "output_type": "stream",
     "text": [
      "ic| \"elapsed=\": 'elapsed='\n",
      "    tm_end - tm_begin: 0.00010323524475097656\n",
      "    \"result=\": 'result='\n",
      "    part2_result: False\n"
     ]
    },
    {
     "name": "stdout",
     "output_type": "stream",
     "text": [
      "Day 10 Part 2 RESULT:\n",
      "False\n"
     ]
    }
   ],
   "source": [
    "def solve_part2():\n",
    "    result = False\n",
    "    ...\n",
    "    return result\n",
    "\n",
    "tm_begin = time.time()\n",
    "part2_result = solve_part2()\n",
    "tm_end = time.time()\n",
    "ic(\"elapsed=\", tm_end - tm_begin, \"result=\", part2_result)\n",
    "print(\"Day 10 Part 2 RESULT:\")\n",
    "print(part2_result)"
   ]
  }
 ],
 "metadata": {
  "kernelspec": {
   "display_name": "aoc-2024-Uq7HKp2W-py3.12",
   "language": "python",
   "name": "python3"
  },
  "language_info": {
   "codemirror_mode": {
    "name": "ipython",
    "version": 3
   },
   "file_extension": ".py",
   "mimetype": "text/x-python",
   "name": "python",
   "nbconvert_exporter": "python",
   "pygments_lexer": "ipython3",
   "version": "3.12.3"
  }
 },
 "nbformat": 4,
 "nbformat_minor": 5
}
